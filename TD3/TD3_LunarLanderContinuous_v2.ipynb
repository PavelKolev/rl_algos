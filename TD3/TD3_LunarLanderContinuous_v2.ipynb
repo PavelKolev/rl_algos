{
 "cells": [
  {
   "cell_type": "markdown",
   "metadata": {
    "colab_type": "text",
    "id": "dU0hm8_5ELiL"
   },
   "source": [
    "# TD3\n",
    "\n",
    "**Author:** [pavelkolev](https://github.com/PavelKolev)<br>\n",
    "**Extending the work of:** [amifunny](https://github.com/amifunny)<br>\n",
    "**Date created:** 2020/09/22<br>\n",
    "**Last modified:** 2020/09/22<br>\n",
    "**Description:** Implementing TD3 algorithm on the LunarLanderContinuous-v2."
   ]
  },
  {
   "cell_type": "code",
   "execution_count": 1,
   "metadata": {
    "colab": {
     "base_uri": "https://localhost:8080/",
     "height": 238
    },
    "colab_type": "code",
    "id": "FGrxNkC4KQSA",
    "outputId": "87c05fa2-d90e-465d-e175-763bf832fda3"
   },
   "outputs": [
    {
     "name": "stdout",
     "output_type": "stream",
     "text": [
      "Selecting previously unselected package xvfb.\n",
      "(Reading database ... 144676 files and directories currently installed.)\n",
      "Preparing to unpack .../xvfb_2%3a1.19.6-1ubuntu4.6_amd64.deb ...\n",
      "Unpacking xvfb (2:1.19.6-1ubuntu4.6) ...\n",
      "Setting up xvfb (2:1.19.6-1ubuntu4.6) ...\n",
      "Processing triggers for man-db (2.8.3-2ubuntu0.1) ...\n",
      "Starting virtual X frame buffer: Xvfb.\n",
      "Collecting box2d-py\n",
      "\u001b[?25l  Downloading https://files.pythonhosted.org/packages/06/bd/6cdc3fd994b0649dcf5d9bad85bd9e26172308bbe9a421bfc6fdbf5081a6/box2d_py-2.3.8-cp36-cp36m-manylinux1_x86_64.whl (448kB)\n",
      "\u001b[K     |████████████████████████████████| 450kB 8.6MB/s \n",
      "\u001b[?25hInstalling collected packages: box2d-py\n",
      "Successfully installed box2d-py-2.3.8\n"
     ]
    }
   ],
   "source": [
    "import sys, os\n",
    "if 'google.colab' in sys.modules:\n",
    "    if not os.path.exists('.setup_complete'):\n",
    "        !wget -q https://raw.githubusercontent.com/yandexdataschool/Practical_RL/master/setup_colab.sh -O- | bash\n",
    "        !touch .setup_complete\n",
    "\n",
    "# This code creates a virtual display to draw game images on.\n",
    "# It will have no effect if your machine has a monitor.\n",
    "if type(os.environ.get(\"DISPLAY\")) is not str or len(os.environ.get(\"DISPLAY\")) == 0:\n",
    "    !bash ../xvfb start\n",
    "    os.environ['DISPLAY'] = ':1'\n",
    "\n",
    "!pip install box2d-py"
   ]
  },
  {
   "cell_type": "code",
   "execution_count": 2,
   "metadata": {
    "colab": {},
    "colab_type": "code",
    "id": "3xIZB-xPELiN"
   },
   "outputs": [],
   "source": [
    "import tensorflow as tf\n",
    "from tensorflow.keras import layers\n",
    "\n",
    "import gym\n",
    "import numpy as np"
   ]
  },
  {
   "cell_type": "markdown",
   "metadata": {
    "colab_type": "text",
    "id": "pTTkJi5vELiS"
   },
   "source": [
    "We use [OpenAIGym](http://gym.openai.com/docs) to create the environment.\n",
    "We will use the `upper_bound` parameter to scale our actions later."
   ]
  },
  {
   "cell_type": "code",
   "execution_count": 3,
   "metadata": {
    "colab": {
     "base_uri": "https://localhost:8080/",
     "height": 84
    },
    "colab_type": "code",
    "id": "m3oQeWCoELiS",
    "outputId": "4101ae76-bf3f-463c-bbab-ad9b6d5e1106"
   },
   "outputs": [
    {
     "name": "stdout",
     "output_type": "stream",
     "text": [
      "Size of State Space ->  8\n",
      "Size of Action Space ->  2\n",
      "Min Value of Action ->  -1.0\n",
      "Max Value of Action ->  1.0\n"
     ]
    }
   ],
   "source": [
    "env = gym.make('LunarLanderContinuous-v2')\n",
    "env.reset()\n",
    "\n",
    "dim_state = env.observation_space.shape[0]\n",
    "print(\"Size of State Space ->  {}\".format(dim_state))\n",
    "\n",
    "dim_action = env.action_space.shape[0]\n",
    "print(\"Size of Action Space ->  {}\".format(dim_action))\n",
    "\n",
    "lower_bound = env.action_space.low[0]\n",
    "upper_bound = env.action_space.high[0]\n",
    "\n",
    "print(\"Min Value of Action ->  {}\".format(lower_bound))\n",
    "print(\"Max Value of Action ->  {}\".format(upper_bound))"
   ]
  },
  {
   "cell_type": "code",
   "execution_count": 4,
   "metadata": {
    "colab": {
     "base_uri": "https://localhost:8080/",
     "height": 269
    },
    "colab_type": "code",
    "id": "X8i1X1HAGFiA",
    "outputId": "fd4be1c8-ae83-4840-8b13-33e743fef3e9"
   },
   "outputs": [
    {
     "data": {
      "image/png": "[encoded data removed]",
      "text/plain": [
       "<Figure size 432x288 with 1 Axes>"
      ]
     },
     "metadata": {
      "needs_background": "light",
      "tags": []
     },
     "output_type": "display_data"
    }
   ],
   "source": [
    "import matplotlib.pyplot as plt\n",
    "%matplotlib inline\n",
    "\n",
    "plt.imshow(env.render('rgb_array'))\n",
    "plt.show()"
   ]
  },
  {
   "cell_type": "markdown",
   "metadata": {
    "colab_type": "text",
    "id": "C727s7-MELiW"
   },
   "source": [
    "To implement better exploration by the Actor network, we use noisy perturbations, specifically\n",
    "an **Ornstein-Uhlenbeck process** for generating noise, as described in the paper.\n",
    "It samples noise from a correlated normal distribution."
   ]
  },
  {
   "cell_type": "code",
   "execution_count": 5,
   "metadata": {
    "colab": {},
    "colab_type": "code",
    "id": "m38Ew5INELiW"
   },
   "outputs": [],
   "source": [
    "class OUActionNoise:\n",
    "    def __init__(self, mean, std_deviation, theta=0.15, dt=1e-2, x_initial=None):\n",
    "        self.theta = theta\n",
    "        self.mean = mean\n",
    "        self.std_dev = std_deviation\n",
    "        self.dt = dt\n",
    "        self.x_initial = x_initial\n",
    "        self.reset()\n",
    "\n",
    "    def __call__(self):\n",
    "        # Formula taken from https://www.wikipedia.org/wiki/Ornstein-Uhlenbeck_process.\n",
    "        x = (\n",
    "            self.x_prev\n",
    "            + self.theta * (self.mean - self.x_prev) * self.dt\n",
    "            + self.std_dev * np.sqrt(self.dt) * np.random.normal(size=self.mean.shape)\n",
    "        )\n",
    "        # Store x into x_prev\n",
    "        # Makes next noise dependent on current one\n",
    "        self.x_prev = x\n",
    "        return x\n",
    "\n",
    "    def reset(self):\n",
    "        if self.x_initial is not None:\n",
    "            self.x_prev = self.x_initial\n",
    "        else:\n",
    "            self.x_prev = np.zeros_like(self.mean)\n"
   ]
  },
  {
   "cell_type": "markdown",
   "metadata": {
    "colab_type": "text",
    "id": "qJEPRnVAELiZ"
   },
   "source": [
    "---\n",
    "TD3 Algorithm Explained:\n",
    "\n",
    "https://lilianweng.github.io/lil-log/2018/04/08/policy-gradient-algorithms.html#td3\n",
    "\n",
    "![Algorithm](https://lilianweng.github.io/lil-log/assets/images/TD3.png)\n",
    "---"
   ]
  },
  {
   "cell_type": "markdown",
   "metadata": {
    "colab_type": "text",
    "id": "iK06jce3nj-H"
   },
   "source": [
    "-----------------------------"
   ]
  },
  {
   "cell_type": "markdown",
   "metadata": {
    "colab_type": "text",
    "id": "8kpxgUEpELic"
   },
   "source": [
    "Here we define the Actor and Critic networks. These are basic Dense models\n",
    "with `ReLU` activation. `BatchNormalization` is used to normalize dimensions across\n",
    "samples in a mini-batch, as activations can vary a lot due to fluctuating values of input\n",
    "state and action.\n",
    "\n",
    "Note: We need the initialization for last layer of the Actor to be between\n",
    "`-0.003` and `0.003` as this prevents us from getting `1` or `-1` output values in\n",
    "the initial stages, which would squash our gradients to zero,\n",
    "as we use the `tanh` activation."
   ]
  },
  {
   "cell_type": "code",
   "execution_count": 6,
   "metadata": {
    "colab": {},
    "colab_type": "code",
    "id": "RVm9FzpiELid"
   },
   "outputs": [],
   "source": [
    "# mu(s) = a\n",
    "def get_actor():\n",
    "    # Initialize weights between -3e-3 and 3-e3\n",
    "    inputs = layers.Input(shape=(dim_state,))\n",
    "    out = layers.Dense(256, activation=\"relu\")(inputs)\n",
    "    out = layers.Dense(128, activation=\"relu\")(out)\n",
    "    outputs = layers.Dense(dim_action, activation=\"tanh\")(out)\n",
    "\n",
    "    # Scaling: Upper bound\n",
    "    outputs = outputs * upper_bound\n",
    "    model = tf.keras.Model(inputs, outputs)\n",
    "    return model\n",
    "\n",
    "\n",
    "# Q(s,a)\n",
    "def get_critic():\n",
    "    # State as input\n",
    "    state_input = layers.Input(shape=(dim_state))\n",
    "    state_out = layers.Dense(32, activation=\"relu\")(state_input)\n",
    "    \n",
    "    # Action as input\n",
    "    action_input = layers.Input(shape=(dim_action))\n",
    "    action_out = layers.Dense(32, activation=\"relu\")(action_input)\n",
    "    \n",
    "    # Both are passed through seperate layer before concatenating\n",
    "    concat = layers.Concatenate()([state_out, action_out])\n",
    "    out = layers.Dense(256, activation=\"relu\")(concat)\n",
    "    out = layers.Dense(128, activation=\"relu\")(out)\n",
    "    outputs = layers.Dense(1)(out)\n",
    "\n",
    "    # Outputs single value for give state-action\n",
    "    model = tf.keras.Model([state_input, action_input], outputs)\n",
    "    return model"
   ]
  },
  {
   "cell_type": "markdown",
   "metadata": {
    "colab_type": "text",
    "id": "KN-Nt7FgELil"
   },
   "source": [
    "## Training hyperparameters"
   ]
  },
  {
   "cell_type": "code",
   "execution_count": 7,
   "metadata": {
    "colab": {},
    "colab_type": "code",
    "id": "kF5M8ybQ8yc8"
   },
   "outputs": [],
   "source": [
    "# Learning rate for actor-critic models\n",
    "critic_lr = 0.001\n",
    "actor_lr  = 0.0001\n",
    "\n",
    "total_episodes = 4000\n",
    "\n",
    "# Exponent of priority p^a\n",
    "alpha = 0.7\n",
    "beta  = 0.5\n",
    "eps   = 0.01\n",
    "\n",
    "# Size N\n",
    "N      = 2 ** 16\n",
    "size_B = 2 ** 6\n",
    "\n",
    "# Discount factor for future rewards\n",
    "gamma = 0.99\n",
    "\n",
    "# Used to update target networks\n",
    "tau = 0.005\n",
    "\n",
    "# Start learning\n",
    "start_learning = N"
   ]
  },
  {
   "cell_type": "code",
   "execution_count": 8,
   "metadata": {
    "colab": {},
    "colab_type": "code",
    "id": "LbYrxIJWELil"
   },
   "outputs": [],
   "source": [
    "ou_noise_mu = OUActionNoise(mean = np.zeros(dim_action), \n",
    "                           std_deviation = float(0.2) * np.ones(dim_action))\n",
    "ou_noise_Q  = OUActionNoise(mean = np.zeros(dim_action), \n",
    "                           std_deviation = float(0.1) * np.ones(dim_action))\n",
    "\n",
    "# Function Approx: mu and Q(s,a)\n",
    "mu   = get_actor()\n",
    "mu_t = get_actor()\n",
    "\n",
    "Q1   = get_critic()\n",
    "Q1_t = get_critic()\n",
    "\n",
    "Q2   = get_critic()\n",
    "Q2_t = get_critic()\n",
    "\n",
    "# Making the weights equal initially\n",
    "mu_t.set_weights(mu.get_weights())\n",
    "Q1_t.set_weights(Q1.get_weights())\n",
    "Q2_t.set_weights(Q2.get_weights())\n",
    "\n",
    "mu_opt = tf.keras.optimizers.Adam(actor_lr)\n",
    "Q1_opt = tf.keras.optimizers.Adam(critic_lr)\n",
    "Q2_opt = tf.keras.optimizers.Adam(critic_lr)"
   ]
  },
  {
   "cell_type": "markdown",
   "metadata": {
    "colab_type": "text",
    "id": "GQ7NLLBIELih"
   },
   "source": [
    "`policy()` returns an action sampled from our Actor network plus some noise for\n",
    "exploration."
   ]
  },
  {
   "cell_type": "code",
   "execution_count": 9,
   "metadata": {
    "colab": {},
    "colab_type": "code",
    "id": "7FyfbS0bELih"
   },
   "outputs": [],
   "source": [
    "def policy(actor, state, noise_object):\n",
    "    # Call \"actor\" mu\n",
    "    sampled_actions = tf.squeeze( actor(state) )\n",
    "\n",
    "    # Sample Noise\n",
    "    noise = noise_object()\n",
    "    sampled_actions = sampled_actions.numpy() + noise\n",
    "    \n",
    "    # Legal action\n",
    "    legal_action = np.clip(sampled_actions, lower_bound, upper_bound)\n",
    "    \n",
    "    return legal_action\n",
    "\n",
    "\n",
    "@tf.function\n",
    "def policy_symbolic(actor, state, noise_object):\n",
    "    sampled_actions = tf.squeeze( actor(state) )\n",
    "\n",
    "    # Sample Noise\n",
    "    noise = noise_object()\n",
    "    sampled_actions = sampled_actions + noise\n",
    "    \n",
    "    # Legal action\n",
    "    legal_action = tf.clip_by_value(sampled_actions, lower_bound, upper_bound)\n",
    "    \n",
    "    return legal_action\n"
   ]
  },
  {
   "cell_type": "code",
   "execution_count": 10,
   "metadata": {
    "colab": {},
    "colab_type": "code",
    "id": "BmXxXmZ5D2J8"
   },
   "outputs": [],
   "source": [
    "# Eager execution is turned on by default in TensorFlow 2.\n",
    "# Decorating with tf.function allows TensorFlow to build a static graph \n",
    "# out of the logic and computations in our function.\n",
    "# This provides a large speed up for blocks of code that contain\n",
    "# many small TensorFlow operations such as this one.\n",
    "\n",
    "# Input: each has dim [batch,?]\n",
    "@tf.function\n",
    "def update_Q1_Q2(state, action, reward, next_state, is_done):\n",
    "    \n",
    "    with tf.GradientTape(persistent = True) as tape:\n",
    "        next_action = tf.stop_gradient( policy_symbolic(mu_t, next_state, ou_noise_Q) )\n",
    "        \n",
    "        Q1_t_nsa    = tf.stop_gradient( Q1_t([next_state, next_action]) )\n",
    "        Q2_t_nsa    = tf.stop_gradient( Q2_t([next_state, next_action]) )\n",
    "\n",
    "        y = reward + (1.0 - is_done) * gamma * tf.math.minimum(Q1_t_nsa, Q2_t_nsa)\n",
    "\n",
    "        Q1_nsa = Q1([state, action])\n",
    "        Q2_nsa = Q2([state, action])\n",
    "\n",
    "        diff_1_squared = tf.math.square(y - Q1_nsa)\n",
    "        diff_2_squared = tf.math.square(y - Q2_nsa)\n",
    "\n",
    "        Q1_loss = tf.math.reduce_mean(diff_1_squared)\n",
    "        Q2_loss = tf.math.reduce_mean(diff_2_squared)\n",
    "\n",
    "    Q1_vars = Q1.trainable_variables\n",
    "    Q1_grad = tape.gradient(Q1_loss, Q1_vars)\n",
    "    Q1_opt.apply_gradients(zip(Q1_grad, Q1_vars))\n",
    "\n",
    "    Q2_vars = Q2.trainable_variables\n",
    "    Q2_grad = tape.gradient(Q2_loss, Q2_vars)\n",
    "    Q2_opt.apply_gradients(zip(Q2_grad, Q2_vars))\n",
    "    \n",
    "\n",
    "# Input: each has dim [batch,?]\n",
    "@tf.function\n",
    "def update_mu(state, action):\n",
    "\n",
    "    with tf.GradientTape() as tape:\n",
    "        actions = mu(state)\n",
    "        Q1_sa = Q1([state, actions])\n",
    "        # Used \"-value\" as we want to maximize the value given\n",
    "        # by the critic for our actions\n",
    "        mu_loss = -tf.math.reduce_mean(Q1_sa)\n",
    "\n",
    "    mu_vars = mu.trainable_variables\n",
    "    mu_grad = tape.gradient(mu_loss, mu_vars)\n",
    "    mu_opt.apply_gradients(zip(mu_grad, mu_vars))\n",
    "\n",
    "\n",
    "# This update target parameters slowly\n",
    "# Based on rate `tau`, which is much less than one.\n",
    "@tf.function\n",
    "def update_target(target_weights, weights, tau):\n",
    "    for (t, w) in zip(target_weights, weights):\n",
    "        t.assign( (1 - tau) * t + tau * w )\n",
    "\n"
   ]
  },
  {
   "cell_type": "code",
   "execution_count": 11,
   "metadata": {
    "colab": {},
    "colab_type": "code",
    "id": "QdPVas8wELia"
   },
   "outputs": [],
   "source": [
    "class Buffer:\n",
    "    def __init__(self, capacity=2**14, batch_size=2^3):\n",
    "        self.batch_size = batch_size\n",
    "        self.capacity   = capacity\n",
    "        self.buffer_index = 0\n",
    "        \n",
    "        # capacity\n",
    "        self.state      = np.zeros((capacity, dim_state))\n",
    "        self.action     = np.zeros((capacity, dim_action))\n",
    "        self.reward     = np.zeros((capacity, 1))\n",
    "        self.next_state = np.zeros((capacity, dim_state))\n",
    "        self.is_done    = np.zeros((capacity, 1))\n",
    "\n",
    "\n",
    "    # Takes (s,a,r,s',done) obervation tuple \n",
    "    def record(self, obs_tuple):\n",
    "        # Set index to zero if capacity is exceeded,\n",
    "        # replacing old records\n",
    "        index = self.buffer_index % self.capacity\n",
    "\n",
    "        self.state[index]      = obs_tuple[0]\n",
    "        self.action[index]     = obs_tuple[1]\n",
    "        self.reward[index]     = obs_tuple[2]\n",
    "        self.next_state[index] = obs_tuple[3]\n",
    "        self.is_done[index]    = obs_tuple[4]\n",
    "\n",
    "        self.buffer_index += 1\n",
    "        \n",
    "    \n",
    "    # We compute the loss and update parameters\n",
    "    def learn(self, update_mu_target):\n",
    "        # Get sampling range\n",
    "        record_range = min(self.buffer_index, self.capacity)\n",
    "\n",
    "        # Randomly sample indices\n",
    "        batch_indices = np.random.choice(record_range, self.batch_size)\n",
    "        \n",
    "        # Convert to tensors\n",
    "        state_batch      = tf.convert_to_tensor(self.state[batch_indices])\n",
    "        action_batch     = tf.convert_to_tensor(self.action[batch_indices])\n",
    "        reward_batch     = tf.convert_to_tensor(self.reward[batch_indices])\n",
    "        reward_batch     = tf.cast(reward_batch, dtype=tf.float32)\n",
    "        next_state_batch = tf.convert_to_tensor(self.next_state[batch_indices])\n",
    "        is_done_batch    = tf.convert_to_tensor(self.is_done[batch_indices])\n",
    "        is_done_batch    = tf.cast(is_done_batch, dtype=tf.float32)\n",
    "        \n",
    "        # Update Current Models\n",
    "        deltas = update_Q1_Q2(state_batch, action_batch, reward_batch,\n",
    "                              next_state_batch, is_done_batch)\n",
    "\n",
    "        # Train Target Models\n",
    "        if update_mu_target:\n",
    "            \n",
    "            # Update policy mu\n",
    "            update_mu(state_batch, action_batch)\n",
    "            \n",
    "            # Update All Target models\n",
    "            update_target(Q1_t.variables, Q1.variables, tau)\n",
    "            update_target(Q2_t.variables, Q2.variables, tau)\n",
    "            update_target(mu_t.variables, mu.variables, tau)\n"
   ]
  },
  {
   "cell_type": "markdown",
   "metadata": {
    "colab_type": "text",
    "id": "YNHGpmmpELio"
   },
   "source": [
    "Now we implement our main training loop, and iterate over episodes.\n",
    "We sample actions using `policy()` and train with `learn()` at each time step,\n",
    "along with updating the Target networks at a rate `tau`."
   ]
  },
  {
   "cell_type": "code",
   "execution_count": 12,
   "metadata": {
    "colab": {},
    "colab_type": "code",
    "id": "RFyILM0kELio"
   },
   "outputs": [],
   "source": [
    "from IPython.display import clear_output\n",
    "from tqdm import trange\n",
    "\n",
    "# To store reward history of each episode\n",
    "ep_reward_list = []\n",
    "# To store average reward history of last few episodes\n",
    "avg_reward_list = []\n",
    "\n",
    "# Create Buffer\n",
    "buffer = Buffer(N, size_B)\n",
    "\n",
    "# factor s.t. beta * (beta_factor ** total_episodes) = 1\n",
    "beta_factor = 2 ** (1/total_episodes)"
   ]
  },
  {
   "cell_type": "code",
   "execution_count": 13,
   "metadata": {
    "colab": {},
    "colab_type": "code",
    "id": "5Tac1m7KKCD2"
   },
   "outputs": [],
   "source": [
    "def save_weights():\n",
    "    # Save the weights\n",
    "    mu.save_weights(\"mu.h5\")\n",
    "    mu_t.save_weights(\"mu_t.h5\")\n",
    "\n",
    "    Q1.save_weights(\"Q1.h5\")\n",
    "    Q1_t.save_weights(\"Q1_t.h5\")\n",
    "\n",
    "    Q2.save_weights(\"Q2.h5\")\n",
    "    Q2_t.save_weights(\"Q2_t.h5\")   "
   ]
  },
  {
   "cell_type": "code",
   "execution_count": 31,
   "metadata": {
    "colab": {
     "base_uri": "https://localhost:8080/",
     "height": 296
    },
    "colab_type": "code",
    "id": "FLzG2FiIr_QR",
    "outputId": "33516ef8-35c3-4d81-c419-f7fe208f4060"
   },
   "outputs": [
    {
     "data": {
      "image/png": "[encoded data removed]",
      "text/plain": [
       "<Figure size 432x288 with 1 Axes>"
      ]
     },
     "metadata": {
      "needs_background": "light",
      "tags": []
     },
     "output_type": "display_data"
    },
    {
     "name": "stderr",
     "output_type": "stream",
     "text": [
      "100%|██████████| 501/501 [11:08<00:00,  1.33s/it]\n"
     ]
    }
   ],
   "source": [
    "#total_episodes = 500\n",
    "\n",
    "# Takes about 4 min to train\n",
    "is_train_done = False\n",
    "curr_iter     = 0\n",
    "\n",
    "for ep in trange(total_episodes + 1):\n",
    "\n",
    "    prev_state = env.reset()\n",
    "    episodic_reward = 0\n",
    "    \n",
    "    while True:\n",
    "        # Uncomment this to see the Actor in action\n",
    "        # But not in a python notebook.\n",
    "        # env.render()\n",
    "\n",
    "        tf_prev_state = tf.expand_dims(tf.convert_to_tensor(prev_state), 0)\n",
    "        \n",
    "        action = policy(mu, tf_prev_state, ou_noise_mu)\n",
    "        \n",
    "        # Recieve state and reward from environment.\n",
    "        state, reward, done, info = env.step(action)\n",
    "        reward = reward / 200.\n",
    "                \n",
    "        obs_tuple = (prev_state, action, reward, state, done)\n",
    "        buffer.record(obs_tuple)\n",
    "\n",
    "        episodic_reward += reward\n",
    "\n",
    "        update_mu_target = (curr_iter % 2 == 0 )\n",
    "        buffer.learn(update_mu_target)\n",
    "        \n",
    "        # End this episode when `done` is True\n",
    "        if done:\n",
    "            break\n",
    "\n",
    "        prev_state = state\n",
    "        curr_iter += 1\n",
    "\n",
    "    ep_reward_list.append(episodic_reward)\n",
    "\n",
    "    # Mean of last 40 episodes\n",
    "    avg_reward = np.mean(ep_reward_list[-40:])\n",
    "    avg_reward_list.append(200 * avg_reward)\n",
    "\n",
    "    # annealing\n",
    "    beta *= beta_factor\n",
    "\n",
    "    if ep % 50 == 0:\n",
    "        # Plotting graph\n",
    "        # Episodes versus Avg. Rewards\n",
    "\n",
    "        clear_output(True)\n",
    "        plt.plot(avg_reward_list)\n",
    "        plt.xlabel(\"Episode\")\n",
    "        plt.ylabel(\"Avg. Epsiodic Reward\")\n",
    "        plt.show()\n",
    "\n",
    "        if avg_reward >= 200:\n",
    "            print(\"Pass!\")\n",
    "            is_train_done = True\n",
    "            break\n",
    "    \n",
    "    if is_train_done:\n",
    "        save_weights()\n",
    "        break\n",
    "\n",
    "    if ep >=1 and ep % 500 == 0:\n",
    "        save_weights()\n"
   ]
  },
  {
   "cell_type": "markdown",
   "metadata": {
    "colab_type": "text",
    "id": "0psZNZXJICKj"
   },
   "source": [
    "Evaluate Learned Agent"
   ]
  },
  {
   "cell_type": "code",
   "execution_count": 32,
   "metadata": {
    "colab": {},
    "colab_type": "code",
    "id": "rrrtAPZZIZyC"
   },
   "outputs": [],
   "source": [
    "def det_policy(state):\n",
    "    # Use deterministic actor: \"mu\"\n",
    "    sampled_actions = tf.squeeze( mu(state) )\n",
    "    \n",
    "    # We make sure action is within bounds\n",
    "    legal_action = np.clip(sampled_actions, lower_bound, upper_bound)\n",
    "\n",
    "    return legal_action"
   ]
  },
  {
   "cell_type": "code",
   "execution_count": 33,
   "metadata": {
    "colab": {},
    "colab_type": "code",
    "id": "kmZdH5f8IIyg"
   },
   "outputs": [],
   "source": [
    "def evaluate(env, n_games=1):\n",
    "    \"\"\"Plays an a game from start till done, returns per-game rewards \"\"\"\n",
    "\n",
    "    game_rewards = []\n",
    "    for _ in range(n_games):\n",
    "        # initial observation and memory\n",
    "        obs = env.reset()\n",
    "        total_reward = 0\n",
    "\n",
    "        while True:\n",
    "            action = det_policy(obs[None])\n",
    "            obs, reward, done, info = env.step(action)\n",
    "            total_reward += reward\n",
    "            if done:\n",
    "                break\n",
    "\n",
    "        game_rewards.append(total_reward)\n",
    "        \n",
    "    return game_rewards"
   ]
  },
  {
   "cell_type": "code",
   "execution_count": 34,
   "metadata": {
    "colab": {
     "base_uri": "https://localhost:8080/",
     "height": 34
    },
    "colab_type": "code",
    "id": "pwPCfldVHrJJ",
    "outputId": "6a2c1e05-b72a-4ba2-d7cc-a1e59bb46dc6"
   },
   "outputs": [
    {
     "name": "stdout",
     "output_type": "stream",
     "text": [
      "Final mean reward 268.632278614961\n"
     ]
    }
   ],
   "source": [
    "import gym.wrappers\n",
    "\n",
    "with gym.wrappers.Monitor(env, directory=\"videos\", force=True) as env_monitor:\n",
    "    final_rewards = evaluate(env_monitor, n_games=10)\n",
    "\n",
    "print(\"Final mean reward\", np.mean(final_rewards))"
   ]
  },
  {
   "cell_type": "markdown",
   "metadata": {
    "colab_type": "text",
    "id": "AFk13km1Xg3h"
   },
   "source": [
    "---------"
   ]
  },
  {
   "cell_type": "markdown",
   "metadata": {
    "colab_type": "text",
    "id": "LAlKXpKjXc6Q"
   },
   "source": [
    "--------------------"
   ]
  },
  {
   "cell_type": "markdown",
   "metadata": {
    "colab_type": "text",
    "id": "skSf6biDOaAJ"
   },
   "source": [
    "--------------------"
   ]
  }
 ],
 "metadata": {
  "accelerator": "GPU",
  "colab": {
   "collapsed_sections": [],
   "name": "TD3_LunarLanderContinuous-v2.ipynb",
   "provenance": []
  },
  "kernelspec": {
   "display_name": "Python 3",
   "language": "python",
   "name": "python3"
  },
  "language_info": {
   "codemirror_mode": {
    "name": "ipython",
    "version": 3
   },
   "file_extension": ".py",
   "mimetype": "text/x-python",
   "name": "python",
   "nbconvert_exporter": "python",
   "pygments_lexer": "ipython3",
   "version": "3.8.3"
  }
 },
 "nbformat": 4,
 "nbformat_minor": 1
}
