{
  "nbformat": 4,
  "nbformat_minor": 0,
  "metadata": {
    "accelerator": "GPU",
    "colab": {
      "name": "TD3_LLCont_v1.ipynb",
      "provenance": [],
      "collapsed_sections": []
    },
    "kernelspec": {
      "display_name": "Python 3",
      "language": "python",
      "name": "python3"
    },
    "language_info": {
      "codemirror_mode": {
        "name": "ipython",
        "version": 3
      },
      "file_extension": ".py",
      "mimetype": "text/x-python",
      "name": "python",
      "nbconvert_exporter": "python",
      "pygments_lexer": "ipython3",
      "version": "3.8.3"
    }
  },
  "cells": [
    {
      "cell_type": "markdown",
      "metadata": {
        "id": "dU0hm8_5ELiL"
      },
      "source": [
        "# TD3\n",
        "\n",
        "**Author:** [pavelkolev](https://github.com/PavelKolev)<br>\n",
        "**Extending the work of:** [amifunny](https://github.com/amifunny)<br>\n",
        "**Date created:** 2020/09/22<br>\n",
        "**Last modified:** 2020/09/22<br>\n",
        "**Description:** Implementing TD3 algorithm on the LunarLanderContinuous-v2."
      ]
    },
    {
      "cell_type": "code",
      "metadata": {
        "id": "FGrxNkC4KQSA",
        "outputId": "da96a795-d318-4280-dc9b-0219bb8eb380",
        "colab": {
          "base_uri": "https://localhost:8080/",
          "height": 238
        }
      },
      "source": [
        "import sys, os\n",
        "if 'google.colab' in sys.modules:\n",
        "    if not os.path.exists('.setup_complete'):\n",
        "        !wget -q https://raw.githubusercontent.com/yandexdataschool/Practical_RL/master/setup_colab.sh -O- | bash\n",
        "        !touch .setup_complete\n",
        "\n",
        "# This code creates a virtual display to draw game images on.\n",
        "# It will have no effect if your machine has a monitor.\n",
        "if type(os.environ.get(\"DISPLAY\")) is not str or len(os.environ.get(\"DISPLAY\")) == 0:\n",
        "    !bash ../xvfb start\n",
        "    os.environ['DISPLAY'] = ':1'\n",
        "\n",
        "!pip install box2d-py"
      ],
      "execution_count": 1,
      "outputs": [
        {
          "output_type": "stream",
          "text": [
            "Selecting previously unselected package xvfb.\n",
            "(Reading database ... 144676 files and directories currently installed.)\n",
            "Preparing to unpack .../xvfb_2%3a1.19.6-1ubuntu4.6_amd64.deb ...\n",
            "Unpacking xvfb (2:1.19.6-1ubuntu4.6) ...\n",
            "Setting up xvfb (2:1.19.6-1ubuntu4.6) ...\n",
            "Processing triggers for man-db (2.8.3-2ubuntu0.1) ...\n",
            "Starting virtual X frame buffer: Xvfb.\n",
            "Collecting box2d-py\n",
            "\u001b[?25l  Downloading https://files.pythonhosted.org/packages/06/bd/6cdc3fd994b0649dcf5d9bad85bd9e26172308bbe9a421bfc6fdbf5081a6/box2d_py-2.3.8-cp36-cp36m-manylinux1_x86_64.whl (448kB)\n",
            "\u001b[K     |████████████████████████████████| 450kB 5.5MB/s \n",
            "\u001b[?25hInstalling collected packages: box2d-py\n",
            "Successfully installed box2d-py-2.3.8\n"
          ],
          "name": "stdout"
        }
      ]
    },
    {
      "cell_type": "code",
      "metadata": {
        "id": "3xIZB-xPELiN"
      },
      "source": [
        "import tensorflow as tf\n",
        "from tensorflow.keras import layers\n",
        "\n",
        "import gym\n",
        "import numpy as np"
      ],
      "execution_count": 2,
      "outputs": []
    },
    {
      "cell_type": "markdown",
      "metadata": {
        "id": "pTTkJi5vELiS"
      },
      "source": [
        "We use [OpenAIGym](http://gym.openai.com/docs) to create the environment.\n",
        "We will use the `upper_bound` parameter to scale our actions later."
      ]
    },
    {
      "cell_type": "code",
      "metadata": {
        "id": "m3oQeWCoELiS",
        "outputId": "63ad881f-09c1-45d9-ba65-11a5a7ab472d",
        "colab": {
          "base_uri": "https://localhost:8080/",
          "height": 84
        }
      },
      "source": [
        "env = gym.make('LunarLanderContinuous-v2')\n",
        "env.reset()\n",
        "\n",
        "dim_state = env.observation_space.shape[0]\n",
        "print(\"Size of State Space ->  {}\".format(dim_state))\n",
        "\n",
        "dim_action = env.action_space.shape[0]\n",
        "print(\"Size of Action Space ->  {}\".format(dim_action))\n",
        "\n",
        "lower_bound = env.action_space.low[0]\n",
        "upper_bound = env.action_space.high[0]\n",
        "\n",
        "print(\"Min Value of Action ->  {}\".format(lower_bound))\n",
        "print(\"Max Value of Action ->  {}\".format(upper_bound))"
      ],
      "execution_count": 3,
      "outputs": [
        {
          "output_type": "stream",
          "text": [
            "Size of State Space ->  8\n",
            "Size of Action Space ->  2\n",
            "Min Value of Action ->  -1.0\n",
            "Max Value of Action ->  1.0\n"
          ],
          "name": "stdout"
        }
      ]
    },
    {
      "cell_type": "code",
      "metadata": {
        "id": "X8i1X1HAGFiA",
        "outputId": "7b47a3d8-0a79-4228-efc0-52e289512ce6",
        "colab": {
          "base_uri": "https://localhost:8080/",
          "height": 269
        }
      },
      "source": [
        "import matplotlib.pyplot as plt\n",
        "%matplotlib inline\n",
        "\n",
        "plt.imshow(env.render('rgb_array'))\n",
        "plt.show()"
      ],
      "execution_count": 4,
      "outputs": [
        {
          "output_type": "display_data",
          "data": {
            "image/png": "[encoded data removed]",
            "text/plain": [
              "<Figure size 432x288 with 1 Axes>"
            ]
          },
          "metadata": {
            "tags": [],
            "needs_background": "light"
          }
        }
      ]
    },
    {
      "cell_type": "markdown",
      "metadata": {
        "id": "C727s7-MELiW"
      },
      "source": [
        "To implement better exploration by the Actor network, we use noisy perturbations, specifically\n",
        "an **Ornstein-Uhlenbeck process** for generating noise, as described in the paper.\n",
        "It samples noise from a correlated normal distribution."
      ]
    },
    {
      "cell_type": "code",
      "metadata": {
        "id": "m38Ew5INELiW"
      },
      "source": [
        "class Gaussian:\n",
        "    def __init__(self, mean, std_deviation, bounds = None):\n",
        "        self.mean = mean\n",
        "        self.std_dev = std_deviation\n",
        "        self.bounds = bounds\n",
        "        \n",
        "    def __call__(self):\n",
        "        x = np.random.normal(self.mean, self.std_dev, self.mean.shape)\n",
        "        if not self.bounds == None:\n",
        "            x = np.clip(x, self.bounds[0], self.bounds[1])\n",
        "        return x"
      ],
      "execution_count": 5,
      "outputs": []
    },
    {
      "cell_type": "markdown",
      "metadata": {
        "id": "qJEPRnVAELiZ"
      },
      "source": [
        "---\n",
        "TD3 Algorithm Explained:\n",
        "\n",
        "https://lilianweng.github.io/lil-log/2018/04/08/policy-gradient-algorithms.html#td3\n",
        "\n",
        "![Algorithm](https://lilianweng.github.io/lil-log/assets/images/TD3.png)\n",
        "---"
      ]
    },
    {
      "cell_type": "markdown",
      "metadata": {
        "id": "iK06jce3nj-H"
      },
      "source": [
        "-----------------------------"
      ]
    },
    {
      "cell_type": "markdown",
      "metadata": {
        "id": "8kpxgUEpELic"
      },
      "source": [
        "Here we define the Actor and Critic networks. These are basic Dense models\n",
        "with `ReLU` activation. `BatchNormalization` is used to normalize dimensions across\n",
        "samples in a mini-batch, as activations can vary a lot due to fluctuating values of input\n",
        "state and action.\n",
        "\n",
        "Note: We need the initialization for last layer of the Actor to be between\n",
        "`-0.003` and `0.003` as this prevents us from getting `1` or `-1` output values in\n",
        "the initial stages, which would squash our gradients to zero,\n",
        "as we use the `tanh` activation."
      ]
    },
    {
      "cell_type": "code",
      "metadata": {
        "id": "RVm9FzpiELid"
      },
      "source": [
        "# mu(s) = a\n",
        "def get_actor():\n",
        "    # Initialize weights between -3e-3 and 3-e3\n",
        "    inputs = layers.Input(shape=(dim_state,))\n",
        "    out = layers.Dense(256, activation=\"relu\")(inputs)\n",
        "    out = layers.Dense(128, activation=\"relu\")(out)\n",
        "    outputs = layers.Dense(dim_action, activation=\"tanh\")(out)\n",
        "\n",
        "    # Scaling: Upper bound\n",
        "    outputs = outputs * upper_bound\n",
        "    model = tf.keras.Model(inputs, outputs)\n",
        "    return model\n",
        "\n",
        "\n",
        "# Q(s,a)\n",
        "def get_critic():\n",
        "    # State as input\n",
        "    state_input = layers.Input(shape=(dim_state))\n",
        "    state_out = layers.Dense(32, activation=\"relu\")(state_input)\n",
        "    \n",
        "    # Action as input\n",
        "    action_input = layers.Input(shape=(dim_action))\n",
        "    action_out = layers.Dense(32, activation=\"relu\")(action_input)\n",
        "    \n",
        "    # Both are passed through seperate layer before concatenating\n",
        "    concat = layers.Concatenate()([state_out, action_out])\n",
        "    out = layers.Dense(256, activation=\"relu\")(concat)\n",
        "    out = layers.Dense(128, activation=\"relu\")(out)\n",
        "    outputs = layers.Dense(1)(out)\n",
        "\n",
        "    # Outputs single value for give state-action\n",
        "    model = tf.keras.Model([state_input, action_input], outputs)\n",
        "    return model"
      ],
      "execution_count": 6,
      "outputs": []
    },
    {
      "cell_type": "markdown",
      "metadata": {
        "id": "KN-Nt7FgELil"
      },
      "source": [
        "## Training hyperparameters"
      ]
    },
    {
      "cell_type": "code",
      "metadata": {
        "id": "kF5M8ybQ8yc8"
      },
      "source": [
        "# Learning rate for actor-critic models\n",
        "critic_lr = 0.001\n",
        "actor_lr  = 0.0001\n",
        "\n",
        "total_episodes = 4000\n",
        "\n",
        "# Size N\n",
        "N      = 2 ** 16\n",
        "size_B = 2 ** 6\n",
        "\n",
        "# Discount factor for future rewards\n",
        "gamma = 0.99\n",
        "\n",
        "# Used to update target networks\n",
        "tau = 0.005\n"
      ],
      "execution_count": 7,
      "outputs": []
    },
    {
      "cell_type": "code",
      "metadata": {
        "id": "LbYrxIJWELil"
      },
      "source": [
        "noise_mu = Gaussian(mean = np.zeros(dim_action),\n",
        "                    std_deviation = float( 0.1 ) * np.ones(dim_action))\n",
        "\n",
        "noise_Q  = Gaussian(mean = np.zeros(dim_action),\n",
        "                    std_deviation = float(0.2) * np.ones(dim_action),\n",
        "                    bounds = [-0.5, 0.5])\n",
        "\n",
        "# Function Approx: mu and Q(s,a)\n",
        "mu   = get_actor()\n",
        "mu_t = get_actor()\n",
        "\n",
        "Q1   = get_critic()\n",
        "Q1_t = get_critic()\n",
        "\n",
        "Q2   = get_critic()\n",
        "Q2_t = get_critic()\n",
        "\n",
        "# Making the weights equal initially\n",
        "mu_t.set_weights(mu.get_weights())\n",
        "Q1_t.set_weights(Q1.get_weights())\n",
        "Q2_t.set_weights(Q2.get_weights())\n",
        "\n",
        "mu_opt = tf.keras.optimizers.Adam(actor_lr)\n",
        "Q1_opt = tf.keras.optimizers.Adam(critic_lr)\n",
        "Q2_opt = tf.keras.optimizers.Adam(critic_lr)"
      ],
      "execution_count": 8,
      "outputs": []
    },
    {
      "cell_type": "markdown",
      "metadata": {
        "id": "GQ7NLLBIELih"
      },
      "source": [
        "`policy()` returns an action sampled from our Actor network plus some noise for\n",
        "exploration."
      ]
    },
    {
      "cell_type": "code",
      "metadata": {
        "id": "7FyfbS0bELih"
      },
      "source": [
        "def policy(actor, state, noise_object):\n",
        "    # Call \"actor\" mu\n",
        "    sampled_actions = tf.squeeze( actor(state) )\n",
        "\n",
        "    # Sample Noise\n",
        "    noise = noise_object()\n",
        "    sampled_actions = sampled_actions.numpy() + noise\n",
        "    \n",
        "    # Legal action\n",
        "    legal_action = np.clip(sampled_actions, lower_bound, upper_bound)\n",
        "    \n",
        "    return legal_action\n",
        "\n",
        "\n",
        "@tf.function\n",
        "def policy_symbolic(actor, state, noise_object):\n",
        "    sampled_actions = tf.squeeze( actor(state) )\n",
        "\n",
        "    # Sample Noise\n",
        "    noise = noise_object()\n",
        "    sampled_actions = sampled_actions + noise\n",
        "    \n",
        "    # Legal action\n",
        "    legal_action = tf.clip_by_value(sampled_actions, lower_bound, upper_bound)\n",
        "    \n",
        "    return legal_action\n"
      ],
      "execution_count": 9,
      "outputs": []
    },
    {
      "cell_type": "code",
      "metadata": {
        "id": "BmXxXmZ5D2J8"
      },
      "source": [
        "# Eager execution is turned on by default in TensorFlow 2.\n",
        "# Decorating with tf.function allows TensorFlow to build a static graph \n",
        "# out of the logic and computations in our function.\n",
        "# This provides a large speed up for blocks of code that contain\n",
        "# many small TensorFlow operations such as this one.\n",
        "\n",
        "# Input: each has dim [batch,?]\n",
        "@tf.function\n",
        "def update_Q1_Q2(state, action, reward, next_state, is_done):\n",
        "    \n",
        "    with tf.GradientTape(persistent = True) as tape:\n",
        "        next_action = tf.stop_gradient( policy_symbolic(mu_t, next_state, noise_Q) )\n",
        "        \n",
        "        Q1_t_nsa    = tf.stop_gradient( Q1_t([next_state, next_action]) )\n",
        "        Q2_t_nsa    = tf.stop_gradient( Q2_t([next_state, next_action]) )\n",
        "\n",
        "        y = reward + (1.0 - is_done) * gamma * tf.math.minimum(Q1_t_nsa, Q2_t_nsa)\n",
        "\n",
        "        Q1_nsa = Q1([state, action])\n",
        "        Q2_nsa = Q2([state, action])\n",
        "\n",
        "        diff_1_squared = tf.math.square(y - Q1_nsa)\n",
        "        diff_2_squared = tf.math.square(y - Q2_nsa)\n",
        "\n",
        "        Q1_loss = tf.math.reduce_mean(diff_1_squared)\n",
        "        Q2_loss = tf.math.reduce_mean(diff_2_squared)\n",
        "\n",
        "    Q1_vars = Q1.trainable_variables\n",
        "    Q1_grad = tape.gradient(Q1_loss, Q1_vars)\n",
        "    Q1_opt.apply_gradients(zip(Q1_grad, Q1_vars))\n",
        "\n",
        "    Q2_vars = Q2.trainable_variables\n",
        "    Q2_grad = tape.gradient(Q2_loss, Q2_vars)\n",
        "    Q2_opt.apply_gradients(zip(Q2_grad, Q2_vars))\n",
        "    \n",
        "\n",
        "# Input: each has dim [batch,?]\n",
        "@tf.function\n",
        "def update_mu(state, action):\n",
        "\n",
        "    with tf.GradientTape() as tape:\n",
        "        actions = mu(state)\n",
        "        Q1_sa = Q1([state, actions])\n",
        "        # Used \"-value\" as we want to maximize the value given\n",
        "        # by the critic for our actions\n",
        "        mu_loss = -tf.math.reduce_mean(Q1_sa)\n",
        "\n",
        "    mu_vars = mu.trainable_variables\n",
        "    mu_grad = tape.gradient(mu_loss, mu_vars)\n",
        "    mu_opt.apply_gradients(zip(mu_grad, mu_vars))\n",
        "\n",
        "\n",
        "# This update target parameters slowly\n",
        "# Based on rate `tau`, which is much less than one.\n",
        "@tf.function\n",
        "def update_target(target_weights, weights, tau):\n",
        "    for (t, w) in zip(target_weights, weights):\n",
        "        t.assign( (1 - tau) * t + tau * w )\n",
        "\n"
      ],
      "execution_count": 10,
      "outputs": []
    },
    {
      "cell_type": "code",
      "metadata": {
        "id": "QdPVas8wELia"
      },
      "source": [
        "class Buffer:\n",
        "    def __init__(self, capacity=2**14, batch_size=2**3):\n",
        "        self.batch_size = batch_size\n",
        "        self.capacity   = capacity\n",
        "        self.buffer_index = 0\n",
        "        \n",
        "        # capacity\n",
        "        self.state      = np.zeros((capacity, dim_state))\n",
        "        self.action     = np.zeros((capacity, dim_action))\n",
        "        self.reward     = np.zeros((capacity, 1))\n",
        "        self.next_state = np.zeros((capacity, dim_state))\n",
        "        self.is_done    = np.zeros((capacity, 1))\n",
        "\n",
        "\n",
        "    # Takes (s,a,r,s',done) obervation tuple \n",
        "    def record(self, obs_tuple):\n",
        "        # Set index to zero if capacity is exceeded,\n",
        "        # replacing old records\n",
        "        index = self.buffer_index % self.capacity\n",
        "\n",
        "        self.state[index]      = obs_tuple[0]\n",
        "        self.action[index]     = obs_tuple[1]\n",
        "        self.reward[index]     = obs_tuple[2]\n",
        "        self.next_state[index] = obs_tuple[3]\n",
        "        self.is_done[index]    = obs_tuple[4]\n",
        "\n",
        "        self.buffer_index += 1\n",
        "        \n",
        "    \n",
        "    # We compute the loss and update parameters\n",
        "    def learn(self, update_mu_target):\n",
        "        # Get sampling range\n",
        "        record_range = min(self.buffer_index, self.capacity)\n",
        "\n",
        "        # Randomly sample indices\n",
        "        batch_indices = np.random.choice(record_range, self.batch_size)\n",
        "        \n",
        "        # Convert to tensors\n",
        "        state_batch      = tf.convert_to_tensor(self.state[batch_indices])\n",
        "        action_batch     = tf.convert_to_tensor(self.action[batch_indices])\n",
        "        reward_batch     = tf.convert_to_tensor(self.reward[batch_indices])\n",
        "        reward_batch     = tf.cast(reward_batch, dtype=tf.float32)\n",
        "        next_state_batch = tf.convert_to_tensor(self.next_state[batch_indices])\n",
        "        is_done_batch    = tf.convert_to_tensor(self.is_done[batch_indices])\n",
        "        is_done_batch    = tf.cast(is_done_batch, dtype=tf.float32)\n",
        "        \n",
        "        # Update Current Models\n",
        "        deltas = update_Q1_Q2(state_batch, action_batch, reward_batch,\n",
        "                              next_state_batch, is_done_batch)\n",
        "\n",
        "        # Train Target Models\n",
        "        if update_mu_target:\n",
        "            \n",
        "            # Update policy mu\n",
        "            update_mu(state_batch, action_batch)\n",
        "            \n",
        "            # Update All Target models\n",
        "            update_target(Q1_t.variables, Q1.variables, tau)\n",
        "            update_target(Q2_t.variables, Q2.variables, tau)\n",
        "            update_target(mu_t.variables, mu.variables, tau)\n"
      ],
      "execution_count": 11,
      "outputs": []
    },
    {
      "cell_type": "markdown",
      "metadata": {
        "id": "YNHGpmmpELio"
      },
      "source": [
        "Now we implement our main training loop, and iterate over episodes.\n",
        "We sample actions using `policy()` and train with `learn()` at each time step,\n",
        "along with updating the Target networks at a rate `tau`."
      ]
    },
    {
      "cell_type": "code",
      "metadata": {
        "id": "RFyILM0kELio"
      },
      "source": [
        "from IPython.display import clear_output\n",
        "from tqdm import trange\n",
        "\n",
        "# To store reward history of each episode\n",
        "ep_reward_list = []\n",
        "\n",
        "# To store average reward history of last few episodes\n",
        "avg_reward_list = []\n",
        "\n",
        "# Create Buffer\n",
        "buffer = Buffer(N, size_B)\n"
      ],
      "execution_count": 12,
      "outputs": []
    },
    {
      "cell_type": "code",
      "metadata": {
        "id": "5Tac1m7KKCD2"
      },
      "source": [
        "def save_weights():\n",
        "    # Save the weights\n",
        "    mu.save_weights(\"mu.h5\")\n",
        "    mu_t.save_weights(\"mu_t.h5\")\n",
        "\n",
        "    Q1.save_weights(\"Q1.h5\")\n",
        "    Q1_t.save_weights(\"Q1_t.h5\")\n",
        "\n",
        "    Q2.save_weights(\"Q2.h5\")\n",
        "    Q2_t.save_weights(\"Q2_t.h5\")\n",
        "    "
      ],
      "execution_count": 13,
      "outputs": []
    },
    {
      "cell_type": "code",
      "metadata": {
        "id": "FLzG2FiIr_QR",
        "outputId": "a4f05634-7179-4ef5-960b-3654ec73f590",
        "colab": {
          "base_uri": "https://localhost:8080/",
          "height": 666
        }
      },
      "source": [
        "total_episodes = 4000\n",
        "\n",
        "# Takes about 4 min to train\n",
        "is_train_done = False\n",
        "curr_iter     = 0\n",
        "\n",
        "for ep in trange(total_episodes + 1):\n",
        "\n",
        "    prev_state = env.reset()\n",
        "    episodic_reward = 0\n",
        "    \n",
        "    while True:\n",
        "        # Uncomment this to see the Actor in action\n",
        "        # But not in a python notebook.\n",
        "        # env.render()\n",
        "\n",
        "        tf_prev_state = tf.expand_dims(tf.convert_to_tensor(prev_state), 0)\n",
        "        \n",
        "        action = policy(mu, tf_prev_state, noise_mu)\n",
        "        \n",
        "        # Recieve state and reward from environment.\n",
        "        state, reward, done, info = env.step(action)\n",
        "        reward = reward / 200.\n",
        "                \n",
        "        obs_tuple = (prev_state, action, reward, state, done)\n",
        "        buffer.record(obs_tuple)\n",
        "\n",
        "        episodic_reward += reward\n",
        "\n",
        "        update_mu_target = (curr_iter % 2 == 0 )\n",
        "        buffer.learn(update_mu_target)\n",
        "        \n",
        "        # End this episode when `done` is True\n",
        "        if done:\n",
        "            break\n",
        "\n",
        "        prev_state = state\n",
        "        curr_iter += 1\n",
        "\n",
        "    ep_reward_list.append(episodic_reward)\n",
        "\n",
        "    # Mean of last 40 episodes\n",
        "    avg_reward = np.mean(ep_reward_list[-40:])\n",
        "    avg_reward_list.append(200 * avg_reward)\n",
        "\n",
        "\n",
        "    if ep % 50 == 0:\n",
        "        # Plotting graph\n",
        "        # Episodes versus Avg. Rewards\n",
        "\n",
        "        clear_output(True)\n",
        "        plt.plot(avg_reward_list)\n",
        "        plt.xlabel(\"Episode\")\n",
        "        plt.ylabel(\"Avg. Epsiodic Reward\")\n",
        "        plt.show()\n",
        "\n",
        "        if avg_reward >= 200:\n",
        "            print(\"Pass!\")\n",
        "            is_train_done = True\n",
        "            break\n",
        "    \n",
        "    if is_train_done:\n",
        "        save_weights()\n",
        "        break\n",
        "\n",
        "    if ep >=1 and ep % 500 == 0:\n",
        "        save_weights()\n"
      ],
      "execution_count": 14,
      "outputs": [
        {
          "output_type": "display_data",
          "data": {
            "image/png": "[encoded data removed]",
            "text/plain": [
              "<Figure size 432x288 with 1 Axes>"
            ]
          },
          "metadata": {
            "tags": [],
            "needs_background": "light"
          }
        },
        {
          "output_type": "stream",
          "text": [
            " 78%|███████▊  | 3104/4001 [1:43:52<16:29,  1.10s/it]"
          ],
          "name": "stderr"
        },
        {
          "output_type": "error",
          "ename": "KeyboardInterrupt",
          "evalue": "ignored",
          "traceback": [
            "\u001b[0;31m---------------------------------------------------------------------------\u001b[0m",
            "\u001b[0;31mKeyboardInterrupt\u001b[0m                         Traceback (most recent call last)",
            "\u001b[0;32m<ipython-input-14-5c05ee54b22d>\u001b[0m in \u001b[0;36m<module>\u001b[0;34m()\u001b[0m\n\u001b[1;32m     29\u001b[0m \u001b[0;34m\u001b[0m\u001b[0m\n\u001b[1;32m     30\u001b[0m         \u001b[0mupdate_mu_target\u001b[0m \u001b[0;34m=\u001b[0m \u001b[0;34m(\u001b[0m\u001b[0mcurr_iter\u001b[0m \u001b[0;34m%\u001b[0m \u001b[0;36m2\u001b[0m \u001b[0;34m==\u001b[0m \u001b[0;36m0\u001b[0m \u001b[0;34m)\u001b[0m\u001b[0;34m\u001b[0m\u001b[0;34m\u001b[0m\u001b[0m\n\u001b[0;32m---> 31\u001b[0;31m         \u001b[0mbuffer\u001b[0m\u001b[0;34m.\u001b[0m\u001b[0mlearn\u001b[0m\u001b[0;34m(\u001b[0m\u001b[0mupdate_mu_target\u001b[0m\u001b[0;34m)\u001b[0m\u001b[0;34m\u001b[0m\u001b[0;34m\u001b[0m\u001b[0m\n\u001b[0m\u001b[1;32m     32\u001b[0m \u001b[0;34m\u001b[0m\u001b[0m\n\u001b[1;32m     33\u001b[0m         \u001b[0;31m# End this episode when `done` is True\u001b[0m\u001b[0;34m\u001b[0m\u001b[0;34m\u001b[0m\u001b[0;34m\u001b[0m\u001b[0m\n",
            "\u001b[0;32m<ipython-input-11-efb62a7ab70a>\u001b[0m in \u001b[0;36mlearn\u001b[0;34m(self, update_mu_target)\u001b[0m\n\u001b[1;32m     58\u001b[0m             \u001b[0mupdate_target\u001b[0m\u001b[0;34m(\u001b[0m\u001b[0mQ1_t\u001b[0m\u001b[0;34m.\u001b[0m\u001b[0mvariables\u001b[0m\u001b[0;34m,\u001b[0m \u001b[0mQ1\u001b[0m\u001b[0;34m.\u001b[0m\u001b[0mvariables\u001b[0m\u001b[0;34m,\u001b[0m \u001b[0mtau\u001b[0m\u001b[0;34m)\u001b[0m\u001b[0;34m\u001b[0m\u001b[0;34m\u001b[0m\u001b[0m\n\u001b[1;32m     59\u001b[0m             \u001b[0mupdate_target\u001b[0m\u001b[0;34m(\u001b[0m\u001b[0mQ2_t\u001b[0m\u001b[0;34m.\u001b[0m\u001b[0mvariables\u001b[0m\u001b[0;34m,\u001b[0m \u001b[0mQ2\u001b[0m\u001b[0;34m.\u001b[0m\u001b[0mvariables\u001b[0m\u001b[0;34m,\u001b[0m \u001b[0mtau\u001b[0m\u001b[0;34m)\u001b[0m\u001b[0;34m\u001b[0m\u001b[0;34m\u001b[0m\u001b[0m\n\u001b[0;32m---> 60\u001b[0;31m             \u001b[0mupdate_target\u001b[0m\u001b[0;34m(\u001b[0m\u001b[0mmu_t\u001b[0m\u001b[0;34m.\u001b[0m\u001b[0mvariables\u001b[0m\u001b[0;34m,\u001b[0m \u001b[0mmu\u001b[0m\u001b[0;34m.\u001b[0m\u001b[0mvariables\u001b[0m\u001b[0;34m,\u001b[0m \u001b[0mtau\u001b[0m\u001b[0;34m)\u001b[0m\u001b[0;34m\u001b[0m\u001b[0;34m\u001b[0m\u001b[0m\n\u001b[0m",
            "\u001b[0;32m/usr/local/lib/python3.6/dist-packages/tensorflow/python/eager/def_function.py\u001b[0m in \u001b[0;36m__call__\u001b[0;34m(self, *args, **kwds)\u001b[0m\n\u001b[1;32m    778\u001b[0m       \u001b[0;32melse\u001b[0m\u001b[0;34m:\u001b[0m\u001b[0;34m\u001b[0m\u001b[0;34m\u001b[0m\u001b[0m\n\u001b[1;32m    779\u001b[0m         \u001b[0mcompiler\u001b[0m \u001b[0;34m=\u001b[0m \u001b[0;34m\"nonXla\"\u001b[0m\u001b[0;34m\u001b[0m\u001b[0;34m\u001b[0m\u001b[0m\n\u001b[0;32m--> 780\u001b[0;31m         \u001b[0mresult\u001b[0m \u001b[0;34m=\u001b[0m \u001b[0mself\u001b[0m\u001b[0;34m.\u001b[0m\u001b[0m_call\u001b[0m\u001b[0;34m(\u001b[0m\u001b[0;34m*\u001b[0m\u001b[0margs\u001b[0m\u001b[0;34m,\u001b[0m \u001b[0;34m**\u001b[0m\u001b[0mkwds\u001b[0m\u001b[0;34m)\u001b[0m\u001b[0;34m\u001b[0m\u001b[0;34m\u001b[0m\u001b[0m\n\u001b[0m\u001b[1;32m    781\u001b[0m \u001b[0;34m\u001b[0m\u001b[0m\n\u001b[1;32m    782\u001b[0m       \u001b[0mnew_tracing_count\u001b[0m \u001b[0;34m=\u001b[0m \u001b[0mself\u001b[0m\u001b[0;34m.\u001b[0m\u001b[0m_get_tracing_count\u001b[0m\u001b[0;34m(\u001b[0m\u001b[0;34m)\u001b[0m\u001b[0;34m\u001b[0m\u001b[0;34m\u001b[0m\u001b[0m\n",
            "\u001b[0;32m/usr/local/lib/python3.6/dist-packages/tensorflow/python/eager/def_function.py\u001b[0m in \u001b[0;36m_call\u001b[0;34m(self, *args, **kwds)\u001b[0m\n\u001b[1;32m    812\u001b[0m       \u001b[0;31m# In this case we have not created variables on the first call. So we can\u001b[0m\u001b[0;34m\u001b[0m\u001b[0;34m\u001b[0m\u001b[0;34m\u001b[0m\u001b[0m\n\u001b[1;32m    813\u001b[0m       \u001b[0;31m# run the first trace but we should fail if variables are created.\u001b[0m\u001b[0;34m\u001b[0m\u001b[0;34m\u001b[0m\u001b[0;34m\u001b[0m\u001b[0m\n\u001b[0;32m--> 814\u001b[0;31m       \u001b[0mresults\u001b[0m \u001b[0;34m=\u001b[0m \u001b[0mself\u001b[0m\u001b[0;34m.\u001b[0m\u001b[0m_stateful_fn\u001b[0m\u001b[0;34m(\u001b[0m\u001b[0;34m*\u001b[0m\u001b[0margs\u001b[0m\u001b[0;34m,\u001b[0m \u001b[0;34m**\u001b[0m\u001b[0mkwds\u001b[0m\u001b[0;34m)\u001b[0m\u001b[0;34m\u001b[0m\u001b[0;34m\u001b[0m\u001b[0m\n\u001b[0m\u001b[1;32m    815\u001b[0m       \u001b[0;32mif\u001b[0m \u001b[0mself\u001b[0m\u001b[0;34m.\u001b[0m\u001b[0m_created_variables\u001b[0m\u001b[0;34m:\u001b[0m\u001b[0;34m\u001b[0m\u001b[0;34m\u001b[0m\u001b[0m\n\u001b[1;32m    816\u001b[0m         raise ValueError(\"Creating variables on a non-first call to a function\"\n",
            "\u001b[0;32m/usr/local/lib/python3.6/dist-packages/tensorflow/python/eager/function.py\u001b[0m in \u001b[0;36m__call__\u001b[0;34m(self, *args, **kwargs)\u001b[0m\n\u001b[1;32m   2827\u001b[0m     \u001b[0;32mwith\u001b[0m \u001b[0mself\u001b[0m\u001b[0;34m.\u001b[0m\u001b[0m_lock\u001b[0m\u001b[0;34m:\u001b[0m\u001b[0;34m\u001b[0m\u001b[0;34m\u001b[0m\u001b[0m\n\u001b[1;32m   2828\u001b[0m       \u001b[0mgraph_function\u001b[0m\u001b[0;34m,\u001b[0m \u001b[0margs\u001b[0m\u001b[0;34m,\u001b[0m \u001b[0mkwargs\u001b[0m \u001b[0;34m=\u001b[0m \u001b[0mself\u001b[0m\u001b[0;34m.\u001b[0m\u001b[0m_maybe_define_function\u001b[0m\u001b[0;34m(\u001b[0m\u001b[0margs\u001b[0m\u001b[0;34m,\u001b[0m \u001b[0mkwargs\u001b[0m\u001b[0;34m)\u001b[0m\u001b[0;34m\u001b[0m\u001b[0;34m\u001b[0m\u001b[0m\n\u001b[0;32m-> 2829\u001b[0;31m     \u001b[0;32mreturn\u001b[0m \u001b[0mgraph_function\u001b[0m\u001b[0;34m.\u001b[0m\u001b[0m_filtered_call\u001b[0m\u001b[0;34m(\u001b[0m\u001b[0margs\u001b[0m\u001b[0;34m,\u001b[0m \u001b[0mkwargs\u001b[0m\u001b[0;34m)\u001b[0m  \u001b[0;31m# pylint: disable=protected-access\u001b[0m\u001b[0;34m\u001b[0m\u001b[0;34m\u001b[0m\u001b[0m\n\u001b[0m\u001b[1;32m   2830\u001b[0m \u001b[0;34m\u001b[0m\u001b[0m\n\u001b[1;32m   2831\u001b[0m   \u001b[0;34m@\u001b[0m\u001b[0mproperty\u001b[0m\u001b[0;34m\u001b[0m\u001b[0;34m\u001b[0m\u001b[0m\n",
            "\u001b[0;32m/usr/local/lib/python3.6/dist-packages/tensorflow/python/eager/function.py\u001b[0m in \u001b[0;36m_filtered_call\u001b[0;34m(self, args, kwargs, cancellation_manager)\u001b[0m\n\u001b[1;32m   1846\u001b[0m                            resource_variable_ops.BaseResourceVariable))],\n\u001b[1;32m   1847\u001b[0m         \u001b[0mcaptured_inputs\u001b[0m\u001b[0;34m=\u001b[0m\u001b[0mself\u001b[0m\u001b[0;34m.\u001b[0m\u001b[0mcaptured_inputs\u001b[0m\u001b[0;34m,\u001b[0m\u001b[0;34m\u001b[0m\u001b[0;34m\u001b[0m\u001b[0m\n\u001b[0;32m-> 1848\u001b[0;31m         cancellation_manager=cancellation_manager)\n\u001b[0m\u001b[1;32m   1849\u001b[0m \u001b[0;34m\u001b[0m\u001b[0m\n\u001b[1;32m   1850\u001b[0m   \u001b[0;32mdef\u001b[0m \u001b[0m_call_flat\u001b[0m\u001b[0;34m(\u001b[0m\u001b[0mself\u001b[0m\u001b[0;34m,\u001b[0m \u001b[0margs\u001b[0m\u001b[0;34m,\u001b[0m \u001b[0mcaptured_inputs\u001b[0m\u001b[0;34m,\u001b[0m \u001b[0mcancellation_manager\u001b[0m\u001b[0;34m=\u001b[0m\u001b[0;32mNone\u001b[0m\u001b[0;34m)\u001b[0m\u001b[0;34m:\u001b[0m\u001b[0;34m\u001b[0m\u001b[0;34m\u001b[0m\u001b[0m\n",
            "\u001b[0;32m/usr/local/lib/python3.6/dist-packages/tensorflow/python/eager/function.py\u001b[0m in \u001b[0;36m_call_flat\u001b[0;34m(self, args, captured_inputs, cancellation_manager)\u001b[0m\n\u001b[1;32m   1881\u001b[0m     \u001b[0mvariables_used\u001b[0m \u001b[0;34m=\u001b[0m \u001b[0mset\u001b[0m\u001b[0;34m(\u001b[0m\u001b[0;34m[\u001b[0m\u001b[0;34m]\u001b[0m\u001b[0;34m)\u001b[0m\u001b[0;34m\u001b[0m\u001b[0;34m\u001b[0m\u001b[0m\n\u001b[1;32m   1882\u001b[0m     \u001b[0;32mfor\u001b[0m \u001b[0mi\u001b[0m\u001b[0;34m,\u001b[0m \u001b[0marg\u001b[0m \u001b[0;32min\u001b[0m \u001b[0menumerate\u001b[0m\u001b[0;34m(\u001b[0m\u001b[0margs\u001b[0m\u001b[0;34m)\u001b[0m\u001b[0;34m:\u001b[0m\u001b[0;34m\u001b[0m\u001b[0;34m\u001b[0m\u001b[0m\n\u001b[0;32m-> 1883\u001b[0;31m       \u001b[0;32mif\u001b[0m \u001b[0misinstance\u001b[0m\u001b[0;34m(\u001b[0m\u001b[0marg\u001b[0m\u001b[0;34m,\u001b[0m \u001b[0mresource_variable_ops\u001b[0m\u001b[0;34m.\u001b[0m\u001b[0mBaseResourceVariable\u001b[0m\u001b[0;34m)\u001b[0m\u001b[0;34m:\u001b[0m\u001b[0;34m\u001b[0m\u001b[0;34m\u001b[0m\u001b[0m\n\u001b[0m\u001b[1;32m   1884\u001b[0m         \u001b[0;31m# We can pass a variable more than once, and in this case we need to\u001b[0m\u001b[0;34m\u001b[0m\u001b[0;34m\u001b[0m\u001b[0;34m\u001b[0m\u001b[0m\n\u001b[1;32m   1885\u001b[0m         \u001b[0;31m# pass its handle only once.\u001b[0m\u001b[0;34m\u001b[0m\u001b[0;34m\u001b[0m\u001b[0;34m\u001b[0m\u001b[0m\n",
            "\u001b[0;31mKeyboardInterrupt\u001b[0m: "
          ]
        }
      ]
    },
    {
      "cell_type": "markdown",
      "metadata": {
        "id": "0psZNZXJICKj"
      },
      "source": [
        "Evaluate Learned Agent"
      ]
    },
    {
      "cell_type": "code",
      "metadata": {
        "id": "rrrtAPZZIZyC"
      },
      "source": [
        "def det_policy(state):\n",
        "    # Use deterministic actor: \"mu\"\n",
        "    sampled_actions = tf.squeeze( mu(state) )\n",
        "    \n",
        "    # We make sure action is within bounds\n",
        "    legal_action = np.clip(sampled_actions, lower_bound, upper_bound)\n",
        "\n",
        "    return legal_action"
      ],
      "execution_count": 15,
      "outputs": []
    },
    {
      "cell_type": "code",
      "metadata": {
        "id": "kmZdH5f8IIyg"
      },
      "source": [
        "def evaluate(env, n_games=1):\n",
        "    \"\"\"Plays an a game from start till done, returns per-game rewards \"\"\"\n",
        "\n",
        "    game_rewards = []\n",
        "    for _ in range(n_games):\n",
        "        # initial observation and memory\n",
        "        obs = env.reset()\n",
        "        total_reward = 0\n",
        "\n",
        "        while True:\n",
        "            action = det_policy(obs[None])\n",
        "            obs, reward, done, info = env.step(action)\n",
        "            total_reward += reward\n",
        "            if done:\n",
        "                break\n",
        "\n",
        "        game_rewards.append(total_reward)\n",
        "        \n",
        "    return game_rewards"
      ],
      "execution_count": 16,
      "outputs": []
    },
    {
      "cell_type": "code",
      "metadata": {
        "id": "pwPCfldVHrJJ",
        "outputId": "9e11a985-57ab-441a-bf85-5a5b44e54c6d",
        "colab": {
          "base_uri": "https://localhost:8080/",
          "height": 34
        }
      },
      "source": [
        "import gym.wrappers\n",
        "\n",
        "with gym.wrappers.Monitor(env, directory=\"videos\", force=True) as env_monitor:\n",
        "    final_rewards = evaluate(env_monitor, n_games=10)\n",
        "\n",
        "print(\"Final mean reward\", np.mean(final_rewards))"
      ],
      "execution_count": 17,
      "outputs": [
        {
          "output_type": "stream",
          "text": [
            "Final mean reward 274.87823239927627\n"
          ],
          "name": "stdout"
        }
      ]
    },
    {
      "cell_type": "markdown",
      "metadata": {
        "id": "AFk13km1Xg3h"
      },
      "source": [
        "---------"
      ]
    },
    {
      "cell_type": "markdown",
      "metadata": {
        "id": "LAlKXpKjXc6Q"
      },
      "source": [
        "--------------------"
      ]
    },
    {
      "cell_type": "markdown",
      "metadata": {
        "id": "skSf6biDOaAJ"
      },
      "source": [
        "--------------------"
      ]
    },
    {
      "cell_type": "code",
      "metadata": {
        "id": "wmByriY6Xd9f",
        "outputId": "d46947df-d2b7-4b39-ff28-d4aba62c0494",
        "colab": {
          "base_uri": "https://localhost:8080/",
          "height": 353
        }
      },
      "source": [
        "gpu_info = !nvidia-smi\n",
        "gpu_info = '\\n'.join(gpu_info)\n",
        "if gpu_info.find('failed') >= 0:\n",
        "  print('Select the Runtime > \"Change runtime type\" menu to enable a GPU accelerator, ')\n",
        "  print('and then re-execute this cell.')\n",
        "else:\n",
        "  print(gpu_info)"
      ],
      "execution_count": 18,
      "outputs": [
        {
          "output_type": "stream",
          "text": [
            "Sat Sep 26 21:53:55 2020       \n",
            "+-----------------------------------------------------------------------------+\n",
            "| NVIDIA-SMI 450.66       Driver Version: 418.67       CUDA Version: 10.1     |\n",
            "|-------------------------------+----------------------+----------------------+\n",
            "| GPU  Name        Persistence-M| Bus-Id        Disp.A | Volatile Uncorr. ECC |\n",
            "| Fan  Temp  Perf  Pwr:Usage/Cap|         Memory-Usage | GPU-Util  Compute M. |\n",
            "|                               |                      |               MIG M. |\n",
            "|===============================+======================+======================|\n",
            "|   0  Tesla T4            Off  | 00000000:00:04.0 Off |                    0 |\n",
            "| N/A   77C    P0    35W /  70W |    295MiB / 15079MiB |      0%      Default |\n",
            "|                               |                      |                 ERR! |\n",
            "+-------------------------------+----------------------+----------------------+\n",
            "                                                                               \n",
            "+-----------------------------------------------------------------------------+\n",
            "| Processes:                                                                  |\n",
            "|  GPU   GI   CI        PID   Type   Process name                  GPU Memory |\n",
            "|        ID   ID                                                   Usage      |\n",
            "|=============================================================================|\n",
            "|  No running processes found                                                 |\n",
            "+-----------------------------------------------------------------------------+\n"
          ],
          "name": "stdout"
        }
      ]
    },
    {
      "cell_type": "code",
      "metadata": {
        "id": "xfvb8UBRXe2r",
        "outputId": "63c1c2f4-13f0-4df3-df87-6fa71331712f",
        "colab": {
          "base_uri": "https://localhost:8080/",
          "height": 101
        }
      },
      "source": [
        "from psutil import virtual_memory\n",
        "ram_gb = virtual_memory().total / 1e9\n",
        "print('Your runtime has {:.1f} gigabytes of available RAM\\n'.format(ram_gb))\n",
        "\n",
        "if ram_gb < 20:\n",
        "  print('To enable a high-RAM runtime, select the Runtime > \"Change runtime type\"')\n",
        "  print('menu, and then select High-RAM in the Runtime shape dropdown. Then, ')\n",
        "  print('re-execute this cell.')\n",
        "else:\n",
        "  print('You are using a high-RAM runtime!')"
      ],
      "execution_count": 19,
      "outputs": [
        {
          "output_type": "stream",
          "text": [
            "Your runtime has 13.7 gigabytes of available RAM\n",
            "\n",
            "To enable a high-RAM runtime, select the Runtime > \"Change runtime type\"\n",
            "menu, and then select High-RAM in the Runtime shape dropdown. Then, \n",
            "re-execute this cell.\n"
          ],
          "name": "stdout"
        }
      ]
    },
    {
      "cell_type": "code",
      "metadata": {
        "id": "XDkkhbWCaIuq"
      },
      "source": [
        ""
      ],
      "execution_count": null,
      "outputs": []
    }
  ]
}