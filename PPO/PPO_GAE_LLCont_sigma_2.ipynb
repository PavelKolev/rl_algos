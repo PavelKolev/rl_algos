{
  "nbformat": 4,
  "nbformat_minor": 0,
  "metadata": {
    "colab": {
      "name": "PPO_GAE_LLCont_sigma_2.ipynb",
      "provenance": [],
      "collapsed_sections": []
    },
    "kernelspec": {
      "name": "python3",
      "display_name": "Python 3"
    },
    "accelerator": "GPU"
  },
  "cells": [
    {
      "cell_type": "code",
      "metadata": {
        "id": "2I1VqP1NKsPe",
        "outputId": "7b4c9ebe-7db0-4a7f-b1c6-ac6db1a80566",
        "colab": {
          "base_uri": "https://localhost:8080/",
          "height": 353
        }
      },
      "source": [
        "gpu_info = !nvidia-smi\n",
        "gpu_info = '\\n'.join(gpu_info)\n",
        "if gpu_info.find('failed') >= 0:\n",
        "  print('Select the Runtime > \"Change runtime type\" menu to enable a GPU accelerator, ')\n",
        "  print('and then re-execute this cell.')\n",
        "else:\n",
        "  print(gpu_info)"
      ],
      "execution_count": 1,
      "outputs": [
        {
          "output_type": "stream",
          "text": [
            "Wed Sep 30 09:06:15 2020       \n",
            "+-----------------------------------------------------------------------------+\n",
            "| NVIDIA-SMI 455.23.05    Driver Version: 418.67       CUDA Version: 10.1     |\n",
            "|-------------------------------+----------------------+----------------------+\n",
            "| GPU  Name        Persistence-M| Bus-Id        Disp.A | Volatile Uncorr. ECC |\n",
            "| Fan  Temp  Perf  Pwr:Usage/Cap|         Memory-Usage | GPU-Util  Compute M. |\n",
            "|                               |                      |               MIG M. |\n",
            "|===============================+======================+======================|\n",
            "|   0  Tesla T4            Off  | 00000000:00:04.0 Off |                    0 |\n",
            "| N/A   47C    P8    10W /  70W |      0MiB / 15079MiB |      0%      Default |\n",
            "|                               |                      |                 ERR! |\n",
            "+-------------------------------+----------------------+----------------------+\n",
            "                                                                               \n",
            "+-----------------------------------------------------------------------------+\n",
            "| Processes:                                                                  |\n",
            "|  GPU   GI   CI        PID   Type   Process name                  GPU Memory |\n",
            "|        ID   ID                                                   Usage      |\n",
            "|=============================================================================|\n",
            "|  No running processes found                                                 |\n",
            "+-----------------------------------------------------------------------------+\n"
          ],
          "name": "stdout"
        }
      ]
    },
    {
      "cell_type": "code",
      "metadata": {
        "id": "MG0sRYAbKtja",
        "outputId": "c68f0030-df9a-4613-82a7-aafc10991e9d",
        "colab": {
          "base_uri": "https://localhost:8080/",
          "height": 101
        }
      },
      "source": [
        "from psutil import virtual_memory\n",
        "ram_gb = virtual_memory().total / 1e9\n",
        "print('Your runtime has {:.1f} gigabytes of available RAM\\n'.format(ram_gb))\n",
        "\n",
        "if ram_gb < 20:\n",
        "  print('To enable a high-RAM runtime, select the Runtime > \"Change runtime type\"')\n",
        "  print('menu, and then select High-RAM in the Runtime shape dropdown. Then, ')\n",
        "  print('re-execute this cell.')\n",
        "else:\n",
        "  print('You are using a high-RAM runtime!')"
      ],
      "execution_count": 2,
      "outputs": [
        {
          "output_type": "stream",
          "text": [
            "Your runtime has 13.7 gigabytes of available RAM\n",
            "\n",
            "To enable a high-RAM runtime, select the Runtime > \"Change runtime type\"\n",
            "menu, and then select High-RAM in the Runtime shape dropdown. Then, \n",
            "re-execute this cell.\n"
          ],
          "name": "stdout"
        }
      ]
    },
    {
      "cell_type": "markdown",
      "metadata": {
        "id": "NXEex1K2K0Se"
      },
      "source": [
        "-------------"
      ]
    },
    {
      "cell_type": "code",
      "metadata": {
        "id": "0SRyzt5S_75J",
        "outputId": "6e7a109a-a51a-4881-e188-664ab73f34f2",
        "colab": {
          "base_uri": "https://localhost:8080/",
          "height": 1000
        }
      },
      "source": [
        "import sys, os\n",
        "if 'google.colab' in sys.modules:\n",
        "    # https://github.com/yandexdataschool/Practical_RL/issues/256\n",
        "    !pip uninstall tensorflow --yes\n",
        "    !pip uninstall keras --yes\n",
        "    !pip install tensorflow-gpu==1.13.1\n",
        "    !pip install keras==2.2.4\n",
        "    \n",
        "    if not os.path.exists('.setup_complete'):\n",
        "        !wget -q https://raw.githubusercontent.com/yandexdataschool/Practical_RL/master/setup_colab.sh -O- | bash\n",
        "        !touch .setup_complete\n",
        "\n",
        "# This code creates a virtual display to draw game images on.\n",
        "# It will have no effect if your machine has a monitor.\n",
        "if type(os.environ.get(\"DISPLAY\")) is not str or len(os.environ.get(\"DISPLAY\")) == 0:\n",
        "    !bash ../xvfb start\n",
        "    os.environ['DISPLAY'] = ':1'\n",
        "\n",
        "!pip install box2d-py\n"
      ],
      "execution_count": 3,
      "outputs": [
        {
          "output_type": "stream",
          "text": [
            "Uninstalling tensorflow-2.3.0:\n",
            "  Successfully uninstalled tensorflow-2.3.0\n",
            "Uninstalling Keras-2.4.3:\n",
            "  Successfully uninstalled Keras-2.4.3\n",
            "Collecting tensorflow-gpu==1.13.1\n",
            "\u001b[?25l  Downloading https://files.pythonhosted.org/packages/7b/b1/0ad4ae02e17ddd62109cd54c291e311c4b5fd09b4d0678d3d6ce4159b0f0/tensorflow_gpu-1.13.1-cp36-cp36m-manylinux1_x86_64.whl (345.2MB)\n",
            "\u001b[K     |████████████████████████████████| 345.2MB 52kB/s \n",
            "\u001b[?25hRequirement already satisfied: termcolor>=1.1.0 in /usr/local/lib/python3.6/dist-packages (from tensorflow-gpu==1.13.1) (1.1.0)\n",
            "Requirement already satisfied: protobuf>=3.6.1 in /usr/local/lib/python3.6/dist-packages (from tensorflow-gpu==1.13.1) (3.12.4)\n",
            "Collecting tensorflow-estimator<1.14.0rc0,>=1.13.0\n",
            "\u001b[?25l  Downloading https://files.pythonhosted.org/packages/bb/48/13f49fc3fa0fdf916aa1419013bb8f2ad09674c275b4046d5ee669a46873/tensorflow_estimator-1.13.0-py2.py3-none-any.whl (367kB)\n",
            "\u001b[K     |████████████████████████████████| 368kB 58.1MB/s \n",
            "\u001b[?25hRequirement already satisfied: numpy>=1.13.3 in /usr/local/lib/python3.6/dist-packages (from tensorflow-gpu==1.13.1) (1.18.5)\n",
            "Requirement already satisfied: keras-preprocessing>=1.0.5 in /usr/local/lib/python3.6/dist-packages (from tensorflow-gpu==1.13.1) (1.1.2)\n",
            "Collecting keras-applications>=1.0.6\n",
            "\u001b[?25l  Downloading https://files.pythonhosted.org/packages/71/e3/19762fdfc62877ae9102edf6342d71b28fbfd9dea3d2f96a882ce099b03f/Keras_Applications-1.0.8-py3-none-any.whl (50kB)\n",
            "\u001b[K     |████████████████████████████████| 51kB 8.5MB/s \n",
            "\u001b[?25hRequirement already satisfied: grpcio>=1.8.6 in /usr/local/lib/python3.6/dist-packages (from tensorflow-gpu==1.13.1) (1.32.0)\n",
            "Requirement already satisfied: astor>=0.6.0 in /usr/local/lib/python3.6/dist-packages (from tensorflow-gpu==1.13.1) (0.8.1)\n",
            "Requirement already satisfied: wheel>=0.26 in /usr/local/lib/python3.6/dist-packages (from tensorflow-gpu==1.13.1) (0.35.1)\n",
            "Requirement already satisfied: absl-py>=0.1.6 in /usr/local/lib/python3.6/dist-packages (from tensorflow-gpu==1.13.1) (0.10.0)\n",
            "Requirement already satisfied: six>=1.10.0 in /usr/local/lib/python3.6/dist-packages (from tensorflow-gpu==1.13.1) (1.15.0)\n",
            "Collecting tensorboard<1.14.0,>=1.13.0\n",
            "\u001b[?25l  Downloading https://files.pythonhosted.org/packages/0f/39/bdd75b08a6fba41f098b6cb091b9e8c7a80e1b4d679a581a0ccd17b10373/tensorboard-1.13.1-py3-none-any.whl (3.2MB)\n",
            "\u001b[K     |████████████████████████████████| 3.2MB 58.3MB/s \n",
            "\u001b[?25hRequirement already satisfied: gast>=0.2.0 in /usr/local/lib/python3.6/dist-packages (from tensorflow-gpu==1.13.1) (0.3.3)\n",
            "Requirement already satisfied: setuptools in /usr/local/lib/python3.6/dist-packages (from protobuf>=3.6.1->tensorflow-gpu==1.13.1) (50.3.0)\n",
            "Collecting mock>=2.0.0\n",
            "  Downloading https://files.pythonhosted.org/packages/cd/74/d72daf8dff5b6566db857cfd088907bb0355f5dd2914c4b3ef065c790735/mock-4.0.2-py3-none-any.whl\n",
            "Requirement already satisfied: h5py in /usr/local/lib/python3.6/dist-packages (from keras-applications>=1.0.6->tensorflow-gpu==1.13.1) (2.10.0)\n",
            "Requirement already satisfied: markdown>=2.6.8 in /usr/local/lib/python3.6/dist-packages (from tensorboard<1.14.0,>=1.13.0->tensorflow-gpu==1.13.1) (3.2.2)\n",
            "Requirement already satisfied: werkzeug>=0.11.15 in /usr/local/lib/python3.6/dist-packages (from tensorboard<1.14.0,>=1.13.0->tensorflow-gpu==1.13.1) (1.0.1)\n",
            "Requirement already satisfied: importlib-metadata; python_version < \"3.8\" in /usr/local/lib/python3.6/dist-packages (from markdown>=2.6.8->tensorboard<1.14.0,>=1.13.0->tensorflow-gpu==1.13.1) (2.0.0)\n",
            "Requirement already satisfied: zipp>=0.5 in /usr/local/lib/python3.6/dist-packages (from importlib-metadata; python_version < \"3.8\"->markdown>=2.6.8->tensorboard<1.14.0,>=1.13.0->tensorflow-gpu==1.13.1) (3.2.0)\n",
            "Installing collected packages: mock, tensorflow-estimator, keras-applications, tensorboard, tensorflow-gpu\n",
            "  Found existing installation: tensorflow-estimator 2.3.0\n",
            "    Uninstalling tensorflow-estimator-2.3.0:\n",
            "      Successfully uninstalled tensorflow-estimator-2.3.0\n",
            "  Found existing installation: tensorboard 2.3.0\n",
            "    Uninstalling tensorboard-2.3.0:\n",
            "      Successfully uninstalled tensorboard-2.3.0\n",
            "Successfully installed keras-applications-1.0.8 mock-4.0.2 tensorboard-1.13.1 tensorflow-estimator-1.13.0 tensorflow-gpu-1.13.1\n",
            "Collecting keras==2.2.4\n",
            "\u001b[?25l  Downloading https://files.pythonhosted.org/packages/5e/10/aa32dad071ce52b5502266b5c659451cfd6ffcbf14e6c8c4f16c0ff5aaab/Keras-2.2.4-py2.py3-none-any.whl (312kB)\n",
            "\u001b[K     |████████████████████████████████| 317kB 4.5MB/s \n",
            "\u001b[?25hRequirement already satisfied: scipy>=0.14 in /usr/local/lib/python3.6/dist-packages (from keras==2.2.4) (1.4.1)\n",
            "Requirement already satisfied: pyyaml in /usr/local/lib/python3.6/dist-packages (from keras==2.2.4) (3.13)\n",
            "Requirement already satisfied: six>=1.9.0 in /usr/local/lib/python3.6/dist-packages (from keras==2.2.4) (1.15.0)\n",
            "Requirement already satisfied: keras-applications>=1.0.6 in /usr/local/lib/python3.6/dist-packages (from keras==2.2.4) (1.0.8)\n",
            "Requirement already satisfied: numpy>=1.9.1 in /usr/local/lib/python3.6/dist-packages (from keras==2.2.4) (1.18.5)\n",
            "Requirement already satisfied: h5py in /usr/local/lib/python3.6/dist-packages (from keras==2.2.4) (2.10.0)\n",
            "Requirement already satisfied: keras-preprocessing>=1.0.5 in /usr/local/lib/python3.6/dist-packages (from keras==2.2.4) (1.1.2)\n",
            "\u001b[31mERROR: fancyimpute 0.4.3 requires tensorflow, which is not installed.\u001b[0m\n",
            "Installing collected packages: keras\n",
            "Successfully installed keras-2.2.4\n",
            "Selecting previously unselected package xvfb.\n",
            "(Reading database ... 144619 files and directories currently installed.)\n",
            "Preparing to unpack .../xvfb_2%3a1.19.6-1ubuntu4.6_amd64.deb ...\n",
            "Unpacking xvfb (2:1.19.6-1ubuntu4.6) ...\n",
            "Setting up xvfb (2:1.19.6-1ubuntu4.6) ...\n",
            "Processing triggers for man-db (2.8.3-2ubuntu0.1) ...\n",
            "Starting virtual X frame buffer: Xvfb.\n",
            "Collecting box2d-py\n",
            "\u001b[?25l  Downloading https://files.pythonhosted.org/packages/06/bd/6cdc3fd994b0649dcf5d9bad85bd9e26172308bbe9a421bfc6fdbf5081a6/box2d_py-2.3.8-cp36-cp36m-manylinux1_x86_64.whl (448kB)\n",
            "\u001b[K     |████████████████████████████████| 450kB 4.5MB/s \n",
            "\u001b[?25hInstalling collected packages: box2d-py\n",
            "Successfully installed box2d-py-2.3.8\n"
          ],
          "name": "stdout"
        }
      ]
    },
    {
      "cell_type": "markdown",
      "metadata": {
        "id": "WQAUCblQ_75N"
      },
      "source": [
        "### Let's make a TRPO!\n",
        "\n",
        "In this notebook we will write the code of the one Trust Region Policy Optimization.\n",
        "As usually, it contains a few different parts which we are going to reproduce.\n",
        "\n"
      ]
    },
    {
      "cell_type": "code",
      "metadata": {
        "id": "xzsdr5_8_75O"
      },
      "source": [
        "import tensorflow as tf\n",
        "from tensorflow.keras import layers\n",
        "\n",
        "import gym\n",
        "import numpy as np\n"
      ],
      "execution_count": 6,
      "outputs": []
    },
    {
      "cell_type": "code",
      "metadata": {
        "id": "iHzq9yG7_75R",
        "outputId": "c97294c2-1e9c-43ad-9c56-beccb28b8563",
        "colab": {
          "base_uri": "https://localhost:8080/",
          "height": 84
        }
      },
      "source": [
        "env = gym.make('LunarLanderContinuous-v2')\n",
        "env.reset()\n",
        "\n",
        "dim_state = env.observation_space.shape[0]\n",
        "print(\"Size of State Space ->  {}\".format(dim_state))\n",
        "\n",
        "dim_action = env.action_space.shape[0]\n",
        "print(\"Size of Action Space ->  {}\".format(dim_action))\n",
        "\n",
        "lower_bound = env.action_space.low[0]\n",
        "upper_bound = env.action_space.high[0]\n",
        "\n",
        "print(\"Min Value of Action ->  {}\".format(lower_bound))\n",
        "print(\"Max Value of Action ->  {}\".format(upper_bound))"
      ],
      "execution_count": 7,
      "outputs": [
        {
          "output_type": "stream",
          "text": [
            "Size of State Space ->  8\n",
            "Size of Action Space ->  2\n",
            "Min Value of Action ->  -1.0\n",
            "Max Value of Action ->  1.0\n"
          ],
          "name": "stdout"
        }
      ]
    },
    {
      "cell_type": "code",
      "metadata": {
        "id": "2AS5Om-4_75T",
        "outputId": "4a9caa5b-879a-4328-9d44-1a2caa607c75",
        "colab": {
          "base_uri": "https://localhost:8080/",
          "height": 269
        }
      },
      "source": [
        "import matplotlib.pyplot as plt\n",
        "%matplotlib inline\n",
        "\n",
        "plt.imshow(env.render('rgb_array'))\n",
        "plt.show()"
      ],
      "execution_count": 8,
      "outputs": [
        {
          "output_type": "display_data",
          "data": {
            "image/png": "[encoded data removed]",
            "text/plain": [
              "<Figure size 432x288 with 1 Axes>"
            ]
          },
          "metadata": {
            "tags": [],
            "needs_background": "light"
          }
        }
      ]
    },
    {
      "cell_type": "markdown",
      "metadata": {
        "id": "rgvVN9_z_75W"
      },
      "source": [
        "### Step 1: Defining a network\n",
        "\n",
        "With all it's complexity, at it's core TRPO is yet another policy gradient method. \n",
        "\n",
        "This essentially means we're actually training a stochastic policy $ \\pi_\\theta(a|s) $. \n",
        "\n",
        "And yes, it's gonna be a neural network. So let's start by defining one."
      ]
    },
    {
      "cell_type": "code",
      "metadata": {
        "id": "J0sJTpTj_75X"
      },
      "source": [
        "tf.reset_default_graph()\n",
        "\n",
        "# Unknown Time dimention = None\n",
        "\n",
        "# input tensors\n",
        "obs_ph  = tf.placeholder(shape=(None, dim_state), dtype=tf.float32)\n",
        "\n",
        "# \n",
        "p_beta_ph = tf.placeholder(shape=(), dtype=tf.float32)\n",
        "v_beta_ph = tf.placeholder(shape=(), dtype=tf.float32)\n",
        "\n",
        "# Actions that we made\n",
        "actions_ph   = tf.placeholder(shape=(None, dim_action), dtype=tf.float32)\n",
        "\n",
        "# Previous Model \"mu\" prediction\n",
        "old_mu_ph    = tf.placeholder(shape=(None, dim_action), dtype=tf.float32)\n",
        "old_V_ph     = tf.placeholder(shape=(None, ), dtype=tf.float32)\n",
        "\n",
        "# Action probabilities from previous iteration\n",
        "old_probs_ph = tf.placeholder(shape=(None, ), dtype=tf.float32)\n",
        "\n",
        "# GAE\n",
        "advantage_ph = tf.placeholder(shape=(None, ), dtype=tf.float32)\n",
        "\n",
        "# Cumulative Return \"G = r + gamma*r' + gamma^2*r'' + ...\"\n",
        "c_returns_ph = tf.placeholder(shape=(None, ), dtype=tf.float32)\n",
        "\n",
        "# Sigma is an input parameter!\n",
        "sigma_sq = (2 ** 2) * tf.ones((dim_action, ), dtype=tf.float32)\n"
      ],
      "execution_count": 9,
      "outputs": []
    },
    {
      "cell_type": "markdown",
      "metadata": {
        "id": "E9IVhWlCeCj3"
      },
      "source": [
        "Multivariate Gaussian PDF: \n",
        "\n",
        "TF and np functions"
      ]
    },
    {
      "cell_type": "code",
      "metadata": {
        "id": "mmzQntJ_I-gN"
      },
      "source": [
        "def tf_normal(s, mu, sigma_sq):\n",
        "    exp_term   = tf.math.exp( - tf.reduce_sum( tf.math.square(s - mu) / (2 * sigma_sq), axis = -1) )\n",
        "    norm_const = tf.math.sqrt( tf.math.pow(2 * np.pi, dim_action) * tf.reduce_prod(sigma_sq, axis=-1) )\n",
        "    return exp_term / norm_const\n",
        "\n",
        "\n",
        "def normal(s, mu, sigma_sq):\n",
        "    exp_term   = np.exp( - np.sum( np.square(s - mu) / (2 * sigma_sq), axis = -1) )\n",
        "    norm_const = np.sqrt( np.pow(2 * np.pi, dim_action) * np.prod(sigma_sq, axis=-1) )\n",
        "    return exp_term / norm_const\n",
        "\n",
        "\n",
        "def sample_action(mu, sigma_sq):\n",
        "    action = mu + np.sqrt(sigma_sq) * np.random.randn( mu.shape[0] )\n",
        "    return action\n"
      ],
      "execution_count": 10,
      "outputs": []
    },
    {
      "cell_type": "code",
      "metadata": {
        "id": "VOPs8OEn_75a",
        "outputId": "05713744-634a-4685-a67b-c64ab1757062",
        "colab": {
          "base_uri": "https://localhost:8080/",
          "height": 87
        }
      },
      "source": [
        "def denselayer(name, x, out_dim, nonlinearity=None):\n",
        "    with tf.variable_scope(name):\n",
        "        if nonlinearity is None:\n",
        "            nonlinearity = tf.identity\n",
        "\n",
        "        W = tf.get_variable('W', shape=[x.shape[1], out_dim])\n",
        "        b = tf.get_variable('b', shape=[out_dim], \n",
        "                            initializer = tf.compat.v1.random_normal_initializer(mean=0.0, stddev=0.05))\n",
        "        o = nonlinearity(tf.matmul(x, W) + b)\n",
        "        return o\n",
        "\n",
        "\n",
        "# Interactive Session\n",
        "sess = tf.InteractiveSession()\n",
        "\n",
        "# NN for prediction of mu\n",
        "nn = denselayer(\"policy_layer_1\", obs_ph, 64, tf.nn.tanh)\n",
        "nn = denselayer(\"policy_layer_2\", nn, 64, tf.nn.tanh)\n",
        "nn = denselayer(\"policy_layer_3\", nn, 64, tf.nn.tanh)\n",
        "mu = denselayer(\"policy\", nn, dim_action, tf.nn.tanh)\n",
        "\n",
        "# Actions\n",
        "probs_ph = tf_normal(actions_ph, mu, sigma_sq)\n",
        "\n",
        "# NN for prediction of V\n",
        "nn  = denselayer(\"value_layer_1\", obs_ph, 64, tf.nn.relu)\n",
        "nn  = denselayer(\"value_layer_2\", nn, 64, tf.nn.relu)\n",
        "nn  = denselayer(\"value_layer_3\", nn, 64, tf.nn.relu)\n",
        "V   = denselayer(\"value\", nn, 1, None)\n",
        "\n",
        "# Get Trainable Variables\n",
        "train_vars = tf.trainable_variables()\n"
      ],
      "execution_count": 11,
      "outputs": [
        {
          "output_type": "stream",
          "text": [
            "WARNING:tensorflow:From /usr/local/lib/python3.6/dist-packages/tensorflow/python/framework/op_def_library.py:263: colocate_with (from tensorflow.python.framework.ops) is deprecated and will be removed in a future version.\n",
            "Instructions for updating:\n",
            "Colocations handled automatically by placer.\n"
          ],
          "name": "stdout"
        }
      ]
    },
    {
      "cell_type": "markdown",
      "metadata": {
        "id": "auf2Au2__758"
      },
      "source": [
        "### Step 3: loss functions\n",
        "\n",
        "Now let's define the loss functions and constraints for actual TRPO training."
      ]
    },
    {
      "cell_type": "markdown",
      "metadata": {
        "id": "5EkGpySi_759"
      },
      "source": [
        "Advantage:\n",
        "$$A_{\\theta_{old}}(s_{i},a_{i})=G_{\\theta_{old}}(s_{i},a_{i})-V_{\\theta_{old}}(s_{i})$$\n",
        "\n",
        "where the gain function is\n",
        "$$G_{\\theta_{old}}(s_{i},a_{i})=\\sum_{j=i}^{T}\\gamma^{j-i}r_{j}$$\n",
        "\n",
        "The surrogate reward should be\n",
        "$$J_{surr}= {1 \\over N} \\sum\\limits_{i=0}^N \\frac{\\pi_{\\theta}(s_i, a_i)}{\\pi_{\\theta_{old}}(s_i, a_i)}\n",
        "A_{\\theta_{old}}(s_{i},a_{i})$$\n",
        "\n",
        "Clip Loss Function\n",
        "$$L_{\\theta_{old}}^{CLIP}(\\theta)=\\frac{1}{N}\\sum\\limits _{i=0}^{N}\\min\\left\\{ \\frac{\\pi_{\\theta}(s_{i},a_{i})}{\\pi_{\\theta_{old}}(s_{i},a_{i})}A_{\\theta_{old}}(s_{i},a_{i}),\\ g\\left(\\epsilon,A_{\\theta_{old}}(s_{i},a_{i})\\right)\\right\\}$$\n",
        "\n",
        "where function\n",
        "$$g(\\epsilon,A)=\\begin{cases}\n",
        "(1+\\epsilon)A & ,\\text{ if }A\\geq0\\\\\n",
        "(1-\\epsilon)A & ,\\text{ o.w.}\n",
        "\\end{cases}$$\n",
        "\n",
        "Or alternatively, minimize the surrogate loss:\n",
        "$$ L_{surr} = - L_{\\theta_{old}}^{CLIP}(\\theta) $$"
      ]
    },
    {
      "cell_type": "code",
      "metadata": {
        "id": "hGzd6WwT_76B"
      },
      "source": [
        "# Compute surrogate loss: negative importance-sampled policy gradient\n",
        "batch_size = tf.cast(tf.shape(mu)[0], tf.float32)\n",
        "\n",
        "# select probabilities of chosen actions\n",
        "probs_all     = tf.reshape(probs_ph, [-1])\n",
        "old_probs_all = tf.reshape(old_probs_ph, [-1])\n",
        "ratio_ph      = probs_all / old_probs_all\n",
        "\n",
        "# clipping pattern\n",
        "epsilon = 0.2\n",
        "clippling_pattern = tf.minimum((1 - epsilon) * advantage_ph, 0) +\\\n",
        "                    tf.maximum((1 + epsilon) * advantage_ph, 0)\n",
        "\n",
        "# Clipped Loss\n",
        "L_surr = tf.reduce_mean( tf.minimum(ratio_ph * advantage_ph, clippling_pattern) )\n",
        "\n",
        "\n",
        "# Value loss\n",
        "V_objective = tf.reduce_mean( tf.math.square( V[:,0] - c_returns_ph ) )\n",
        "\n",
        "ss_sq    = tf.reduce_mean( tf.math.square( old_V_ph - c_returns_ph ) )\n",
        "kl_value = tf.reduce_mean( tf.math.square( V[:0] - old_V_ph ) ) / (2 * ss_sq)\n",
        "\n",
        "V_loss = V_objective + v_beta_ph * kl_value\n",
        "train_V_loss = tf.train.AdamOptimizer(1e-4).minimize(V_loss)"
      ],
      "execution_count": 12,
      "outputs": []
    },
    {
      "cell_type": "markdown",
      "metadata": {
        "id": "Imv9XYia_76F"
      },
      "source": [
        "We can ascend these gradients as long as our $\\pi_\\theta(a|s)$ satisfies the constraint\n",
        "$$E_{s,\\pi_{\\Theta_{t}}}\\Big[KL(\\pi(\\Theta_{t}, s) \\:||\\:\\pi(\\Theta_{t+1}, s))\\Big] < \\alpha$$\n",
        "\n",
        "\n",
        "\n",
        "For multivariate Guassian distributions, we have\n",
        "\n",
        "\\begin{eqnarray*}\n",
        "KL\\left(\\pi_{t}(\\cdot|s)\\:||\\:\\pi_{t+1}(\\cdot|s)\\right)&=&\\frac{1}{2}\\left\\{ -k+Tr\\left[\\Sigma_{t+1}^{-1}\\Sigma_{t}\\right]+(\\mu_{t+1}-\\mu_{t})^{T}\\Sigma_{t+1}^{-1}(\\mu_{t+1}-\\mu_{t})+\\ln\\frac{\\det(\\Sigma_{t+1})}{\\det(\\Sigma_{t})}\\right\\} \\\\(\\Sigma_{t+1}=\\Sigma_{t})&=&\\frac{1}{2}\\left\\{ (\\mu_{t+1}-\\mu_{t})^{T}\\Sigma_{t+1}^{-1}(\\mu_{t+1}-\\mu_{t})\\right\\} \\\\&=&\\frac{1}{2}\\sum_{i=1}^{k}\\left(\\frac{[\\mu_{t+1}-\\mu_{t}]_{i}}{[\\sigma_{t+1}]_{i}}\\right)^{2}\n",
        "\\end{eqnarray*}"
      ]
    },
    {
      "cell_type": "code",
      "metadata": {
        "id": "YvAuUZZU_76G",
        "outputId": "b03f082b-925c-4def-a39e-bd17bc2c92e3",
        "colab": {
          "base_uri": "https://localhost:8080/",
          "height": 87
        }
      },
      "source": [
        "# Compute Kullback-Leibler divergence (see formula above)\n",
        "# Note: you need to sum KL and entropy over all actions, not just the ones agent took\n",
        "\n",
        "kl_policy = 0.5 * tf.reduce_sum( tf.math.square(mu - old_mu_ph) / (2 * sigma_sq))\n",
        "kl_policy /= batch_size\n",
        "\n",
        "# Compute policy entropy\n",
        "log_probs_all = tf.math.log(probs_all + 1e-5)\n",
        "entropy       = - tf.reduce_sum(probs_all * log_probs_all) / batch_size\n",
        "\n",
        "# Goal is to maximize: L_surr, minimize beta_ph * kl, maximize entropy\n",
        "# Since we use minimizer, we have\n",
        "policy_loss       = -L_surr + p_beta_ph * kl_policy - entropy\n",
        "train_Policy_loss = tf.train.AdamOptimizer(1e-4).minimize(policy_loss)\n",
        "\n",
        "# No variable depends on the following losses\n",
        "# Used only for progress tracking\n",
        "#losses = [L_surr, kl_policy, entropy, kl_value]\n",
        "losses = [kl_policy, kl_value]"
      ],
      "execution_count": 13,
      "outputs": [
        {
          "output_type": "stream",
          "text": [
            "WARNING:tensorflow:From /usr/local/lib/python3.6/dist-packages/tensorflow/python/ops/math_ops.py:3066: to_int32 (from tensorflow.python.ops.math_ops) is deprecated and will be removed in a future version.\n",
            "Instructions for updating:\n",
            "Use tf.cast instead.\n"
          ],
          "name": "stdout"
        }
      ]
    },
    {
      "cell_type": "code",
      "metadata": {
        "id": "7BePcHv1K-u5"
      },
      "source": [
        "# Initialize TF\n",
        "sess.run(tf.global_variables_initializer())"
      ],
      "execution_count": 14,
      "outputs": []
    },
    {
      "cell_type": "markdown",
      "metadata": {
        "id": "XjOp0ljT34VM"
      },
      "source": [
        "--------------------"
      ]
    },
    {
      "cell_type": "code",
      "metadata": {
        "id": "Rt64G5Pi3xfO",
        "outputId": "63dbe721-69c0-4f49-878f-f07cfa0b64df",
        "colab": {
          "base_uri": "https://localhost:8080/",
          "height": 104
        }
      },
      "source": [
        "# Restore variables from disk.\n",
        "saver = tf.train.Saver()\n",
        "saver.restore(sess, \"model.ckpt\")"
      ],
      "execution_count": 15,
      "outputs": [
        {
          "output_type": "stream",
          "text": [
            "WARNING:tensorflow:From /usr/local/lib/python3.6/dist-packages/tensorflow/python/training/saver.py:1266: checkpoint_exists (from tensorflow.python.training.checkpoint_management) is deprecated and will be removed in a future version.\n",
            "Instructions for updating:\n",
            "Use standard file APIs to check for files with this prefix.\n",
            "INFO:tensorflow:Restoring parameters from model.ckpt\n"
          ],
          "name": "stdout"
        }
      ]
    },
    {
      "cell_type": "markdown",
      "metadata": {
        "id": "M_rSvyFq355u"
      },
      "source": [
        "------------------"
      ]
    },
    {
      "cell_type": "markdown",
      "metadata": {
        "id": "ljE2-68L_75f"
      },
      "source": [
        "### Step 2: Actions and rollouts\n",
        "\n",
        "In this section, we'll define functions that take actions $ a \\sim \\pi_\\theta(a|s) $ and rollouts $ \\langle s_0,a_0,s_1,a_1,s_2,a_2,...s_n,a_n \\rangle $."
      ]
    },
    {
      "cell_type": "code",
      "metadata": {
        "id": "2TaUC34w_75f"
      },
      "source": [
        "def act(obs, sample = True):\n",
        "    \"\"\"\n",
        "    Samples action from policy distribution (sample = True) or takes most likely action (sample = False)\n",
        "    :param: obs - single observation vector\n",
        "    :param sample: if True, samples from \\pi, otherwise takes most likely action\n",
        "    :returns: mu, V, action, prob\n",
        "    \"\"\"\n",
        "    # obs.reshape((1, -1)) makes batch first: [[obs]]\n",
        "    feed_dict = {obs_ph: obs.reshape((1, -1))}\n",
        "    mu_eval, V_eval   = sess.run([mu, V], feed_dict = feed_dict)\n",
        "    mu_eval = mu_eval[0]\n",
        "    V_eval  = V_eval[0,0]\n",
        "\n",
        "    # Sample action\n",
        "    action = sample_action(mu_eval, sigma_sq.eval()) if sample == True else mu_eval\n",
        "\n",
        "    # Add actions to the dictionary\n",
        "    feed_dict[actions_ph] = action[None]\n",
        "    prob = sess.run(probs_ph, feed_dict = feed_dict)[0]\n",
        "\n",
        "    return mu_eval, V_eval, action, prob"
      ],
      "execution_count": 16,
      "outputs": []
    },
    {
      "cell_type": "markdown",
      "metadata": {
        "id": "PX7Wf5kj_75o"
      },
      "source": [
        "Compute cummulative reward just like you did in vanilla REINFORCE"
      ]
    },
    {
      "cell_type": "markdown",
      "metadata": {
        "id": "eDLeSmTX_75w"
      },
      "source": [
        "**Rollout**"
      ]
    },
    {
      "cell_type": "code",
      "metadata": {
        "id": "CbJKrqLFCsNy"
      },
      "source": [
        "import numpy as np\n",
        "\n",
        "def get_GAE(r, v, v_p, gamma=1, gae_param=1):\n",
        "    n   = np.shape(r)[0]\n",
        "    gae = np.zeros(n, dtype=np.float32)\n",
        "\n",
        "    d = np.zeros(n, dtype = np.float32)\n",
        "    d[:-1] = r[:-1] + gamma * v[1:] - v[:-1]\n",
        "    d[-1]  = r[-1]  + gamma * v_p   - v[-1]\n",
        "    \n",
        "    gae[n-1] = d[n-1]\n",
        "    for i in reversed(range(n-1)):\n",
        "        gae[i] = d[i] + ( gae_param * gamma ) * gae[i+1]\n",
        "\n",
        "    return gae"
      ],
      "execution_count": 17,
      "outputs": []
    },
    {
      "cell_type": "code",
      "metadata": {
        "id": "0UFon-4g_75x"
      },
      "source": [
        "# A valid path in a rollout must either:\n",
        "# end up in a \"done\" state or\n",
        "# exceed the allowed steps\n",
        "# NOTE: We might end up with a single path that exceeds steps limit !\n",
        "\n",
        "def rollout(env, act, sample=True, gamma=1, gae_param=1, max_pathlength=3000, n_timesteps=10000):\n",
        "    \"\"\"\n",
        "    Generate rollouts for training.\n",
        "    :param: env - environment in which we will make actions to generate rollouts.\n",
        "    :param: act - the function that can return policy and action given observation.\n",
        "    :param: max_pathlength - maximum size of one path that we generate.\n",
        "    :param: n_timesteps - total sum of sizes of all pathes we generate.\n",
        "    \"\"\"\n",
        "    paths = []\n",
        "\n",
        "    total_timesteps = 0\n",
        "\n",
        "    while total_timesteps < n_timesteps:\n",
        "        obervations, mu_evals, V_evals, actions, rewards, action_probs = [], [], [], [], [], []\n",
        "        obervation = env.reset()\n",
        "        \n",
        "        for _ in range(max_pathlength):\n",
        "            mu_eval, V_eval, action, action_prob = act(obervation, sample)\n",
        "\n",
        "            obervations.append(obervation)\n",
        "            mu_evals.append(mu_eval)\n",
        "            V_evals.append(V_eval)\n",
        "            actions.append(action)\n",
        "            action_probs.append(action_prob)\n",
        "\n",
        "            obervation, reward, done, _ = env.step(action)\n",
        "            rewards.append(reward)\n",
        "            total_timesteps += 1\n",
        "\n",
        "            if done or total_timesteps == n_timesteps:\n",
        "                v_p = 0 if done else act(obervation)[1]\n",
        "                \n",
        "                np_values  = np.array(V_evals)\n",
        "                np_rewards = np.array(rewards)\n",
        "                \n",
        "                np_gae = get_GAE(np_rewards, np_values, v_p, gamma, gae_param)\n",
        "                cummulative_rewards = np_values + np_gae\n",
        "\n",
        "                path = {\"observations\": np.array(obervations),\n",
        "                        \"mu_evals\": np.array(mu_evals),\n",
        "                        \"values\": np_values,\n",
        "                        \"actions\": np.array(actions),\n",
        "                        \"action_probs\":  np.array(action_probs),\n",
        "                        \"cumulative_returns\": cummulative_rewards,\n",
        "                        \"GAE\": np_gae,\n",
        "                        \"reward\": np.sum(np_rewards),\n",
        "                        }\n",
        "                paths.append(path)\n",
        "                break\n",
        "    # outputs List of Dictionaries (feed to nn)\n",
        "    return paths"
      ],
      "execution_count": 31,
      "outputs": []
    },
    {
      "cell_type": "markdown",
      "metadata": {
        "id": "hrH9E9sk_76c"
      },
      "source": [
        "##### Step 5: Main PPO loop\n",
        "\n",
        "Here we will train our network!"
      ]
    },
    {
      "cell_type": "code",
      "metadata": {
        "id": "tiROykhhcUp-"
      },
      "source": [
        "from IPython.display import clear_output\n",
        "from tqdm import trange\n",
        "import pickle\n",
        "\n",
        "eps = 0.01\n",
        "\n",
        "gamma     = 0.99\n",
        "gae_param = 0.95\n",
        "\n",
        "p_beta = 100\n",
        "v_beta = 100\n",
        "\n",
        "# Number of Gradient descent iterations for policy\n",
        "grad_iters = 5\n",
        "\n",
        "# To store average reward history of last few episodes\n",
        "avg_reward_list = []\n",
        "std_reward_list = []\n",
        "\n",
        "#Load \n",
        "with open(\"avg_reward_list.txt\", \"rb\") as fp:   # Unpickling\n",
        "    avg_reward_list = pickle.load(fp)\n",
        "\n",
        "with open(\"std_reward_list.txt\", \"rb\") as fp:   # Unpickling\n",
        "    std_reward_list = pickle.load(fp)"
      ],
      "execution_count": 20,
      "outputs": []
    },
    {
      "cell_type": "code",
      "metadata": {
        "id": "FgJmJFz1_76d",
        "outputId": "18db7d94-f83c-4664-b7a3-2cb5dc1ada5e",
        "colab": {
          "base_uri": "https://localhost:8080/",
          "height": 300
        }
      },
      "source": [
        "#import time\n",
        "#from itertools import count\n",
        "#from collections import OrderedDict\n",
        "#num_epis_total = 0    # number of played episodes\n",
        "#start_time = time.time()\n",
        "\n",
        "\n",
        "done_iters = len(avg_reward_list)\n",
        "iters  = 100\n",
        "x_axis = list( range(1,done_iters + 1) )\n",
        "\n",
        "for i in trange(iters):\n",
        "\n",
        "    # Generating paths.\n",
        "    paths = rollout(env, act, sample=True, gamma=gamma, gae_param=gae_param)\n",
        "    \n",
        "    # Load feed_dict and old_weights\n",
        "    observations = np.concatenate([path[\"observations\"] for path in paths])\n",
        "    old_mu_eval  = np.concatenate([path[\"mu_evals\"] for path in paths])\n",
        "    old_V_eval   = np.concatenate([path[\"values\"] for path in paths])\n",
        "    actions      = np.concatenate([path[\"actions\"] for path in paths])\n",
        "    old_probs    = np.concatenate([path[\"action_probs\"] for path in paths])\n",
        "    c_returns    = np.concatenate([path[\"cumulative_returns\"] for path in paths])\n",
        "    GAE          = np.concatenate([path[\"GAE\"] for path in paths])\n",
        "    \n",
        "    feed_dict_policy = {obs_ph: observations,\n",
        "                        old_mu_ph: old_mu_eval,\n",
        "                        actions_ph: actions,\n",
        "                        old_probs_ph: old_probs,\n",
        "                        advantage_ph: GAE,\n",
        "                        c_returns_ph: c_returns,\n",
        "                        p_beta_ph: p_beta,}\n",
        "\n",
        "    for _ in range(grad_iters):\n",
        "        # Train Policy loss\n",
        "        sess.run(train_Policy_loss, feed_dict = feed_dict_policy)\n",
        "\n",
        "    feed_dict_value = {obs_ph: observations,\n",
        "                       c_returns_ph: c_returns,\n",
        "                       old_V_ph: old_V_eval,\n",
        "                       v_beta_ph: v_beta}\n",
        "\n",
        "    for _ in range(grad_iters):\n",
        "        # Train State Value loss\n",
        "        sess.run(train_V_loss, feed_dict = feed_dict_value)\n",
        "    \n",
        "    feed_dict_loss = feed_dict_policy\n",
        "    for k in feed_dict_value.keys():\n",
        "        feed_dict_loss[k] = feed_dict_value[k]\n",
        "\n",
        "    # Report current progress\n",
        "    kl_policy_v, kl_value_v = sess.run(losses, feed_dict = feed_dict_loss)\n",
        "    \n",
        "    # Update soft constraint regulizers\n",
        "    if kl_policy_v >= 1.5 * eps:\n",
        "        p_beta *= 2\n",
        "    if kl_policy_v <= eps / 1.5:\n",
        "        p_beta /= 2\n",
        "\n",
        "    if kl_value_v >= 1.5 * eps:\n",
        "        v_beta *= 2\n",
        "    if kl_value_v <= eps / 1.5:\n",
        "        v_beta /= 2\n",
        "    \n",
        "    episode_rewards = np.array([path[\"reward\"] for path in paths])\n",
        "    \n",
        "    avg_reward_list.append(episode_rewards.mean())\n",
        "    std_reward_list.append(episode_rewards.std())\n",
        "\n",
        "    #Print Figure\n",
        "    x_axis.append(done_iters + i + 1)\n",
        "\n",
        "    clear_output(True)\n",
        "    fig, (ax1, ax2) = plt.subplots(1, 2)\n",
        "    fig.suptitle('Mean and Std Reward')\n",
        "    ax1.plot(x_axis, avg_reward_list)\n",
        "    ax2.plot(x_axis, std_reward_list)\n",
        "    ax1.set(xlabel='Episode', ylabel='Mean Reward')\n",
        "    ax2.set(xlabel='Episode', ylabel='Std Reward')\n",
        "    fig.tight_layout(pad=3.0)\n",
        "    plt.show()\n",
        "\n",
        "    #stats = OrderedDict()\n",
        "    #num_epis_total += len(episode_rewards)\n",
        "\n",
        "    #stats[\"Total number of episodes\"] = num_epis_total\n",
        "    #stats[\"Average sum of rewards per episode\"] = episode_rewards.mean()\n",
        "    #stats[\"Std of rewards per episode\"] = episode_rewards.std()\n",
        "    #stats[\"Entropy\"] = entropy\n",
        "    #stats[\"Time elapsed\"] = \"%.2f mins\" % ((time.time() - start_time)/60.)\n",
        "    #stats[\"KL between old and new distribution\"] = kl\n",
        "    #stats[\"Surrogate loss\"] = L_surr\n",
        "\n",
        "    #for k, v in stats.items():\n",
        "    #    print(k + \": \" + \" \" * (40 - len(k)) + str(v))"
      ],
      "execution_count": null,
      "outputs": [
        {
          "output_type": "display_data",
          "data": {
            "image/png": "[encoded data removed]",
            "text/plain": [
              "<Figure size 432x288 with 2 Axes>"
            ]
          },
          "metadata": {
            "tags": [],
            "needs_background": "light"
          }
        },
        {
          "output_type": "stream",
          "text": [
            "\r  2%|▏         | 2/100 [01:25<1:10:03, 42.89s/it]"
          ],
          "name": "stderr"
        }
      ]
    },
    {
      "cell_type": "code",
      "metadata": {
        "id": "FYNm-Ga_q36w"
      },
      "source": [
        "# Save to disk\n",
        "saver = tf.train.Saver()\n",
        "saver.save(sess, \"model.ckpt\")\n",
        "\n",
        "import pickle\n",
        "\n",
        "with open(\"avg_reward_list.txt\", \"wb\") as fp:\n",
        "    pickle.dump(avg_reward_list, fp)\n",
        "\n",
        "with open(\"std_reward_list.txt\", \"wb\") as fp:\n",
        "    pickle.dump(std_reward_list, fp)    "
      ],
      "execution_count": 44,
      "outputs": []
    },
    {
      "cell_type": "code",
      "metadata": {
        "id": "D_T5qDKCx17K",
        "outputId": "2bb27be4-6bf2-4250-8874-14c000182ddc",
        "colab": {
          "base_uri": "https://localhost:8080/",
          "height": 282
        }
      },
      "source": [
        "import matplotlib.pyplot as plt\n",
        "\n",
        "paths = rollout(env, act, sample=True)\n",
        "print(np.mean([path['reward'] for path in paths]))\n",
        "\n",
        "x = [path['reward'] for path in paths]\n",
        "plt.hist(x, bins = 50)\n",
        "plt.show()"
      ],
      "execution_count": 40,
      "outputs": [
        {
          "output_type": "stream",
          "text": [
            "-3.4328111809854303\n"
          ],
          "name": "stdout"
        },
        {
          "output_type": "display_data",
          "data": {
            "image/png": "[encoded data removed]",
            "text/plain": [
              "<Figure size 432x288 with 1 Axes>"
            ]
          },
          "metadata": {
            "tags": [],
            "needs_background": "light"
          }
        }
      ]
    },
    {
      "cell_type": "markdown",
      "metadata": {
        "id": "QEBoGP13IoC8"
      },
      "source": [
        "-----------------"
      ]
    },
    {
      "cell_type": "code",
      "metadata": {
        "id": "-KXLiWZYben0"
      },
      "source": [
        "def evaluate(env, n_games=1):\n",
        "    \"\"\"Plays an a game from start till done, returns per-game rewards \"\"\"\n",
        "\n",
        "    game_rewards = []\n",
        "    for _ in range(n_games):\n",
        "        # initial observation and memory\n",
        "        observation = env.reset()\n",
        "\n",
        "        total_reward = 0\n",
        "        while True:\n",
        "            mu_eval, V_eval, action, prob = act(observation, sample=True)\n",
        "            observation, reward, done, _ = env.step(action)\n",
        "            total_reward += reward\n",
        "            if done:\n",
        "                break\n",
        "\n",
        "        game_rewards.append(total_reward)\n",
        "    return game_rewards"
      ],
      "execution_count": 42,
      "outputs": []
    },
    {
      "cell_type": "code",
      "metadata": {
        "id": "h6bjqpBtl9_c",
        "outputId": "b59b81d0-72fc-4bf0-ee45-260efdf40f73",
        "colab": {
          "base_uri": "https://localhost:8080/",
          "height": 34
        }
      },
      "source": [
        "import gym.wrappers\n",
        "\n",
        "with gym.wrappers.Monitor(env, directory=\"videos\", force=True) as env_monitor:\n",
        "    final_rewards = evaluate(env_monitor, n_games=5)\n",
        "\n",
        "print(\"Final rewards\", np.mean(final_rewards))"
      ],
      "execution_count": 43,
      "outputs": [
        {
          "output_type": "stream",
          "text": [
            "Final rewards -0.07316073364769124\n"
          ],
          "name": "stdout"
        }
      ]
    },
    {
      "cell_type": "code",
      "metadata": {
        "id": "3IXb-scZdj2I"
      },
      "source": [
        "# Show video. This may not work in some setups. If it doesn't\n",
        "# work for you, you can download the videos and view them locally.\n",
        "\n",
        "from pathlib import Path\n",
        "from IPython.display import HTML\n",
        "\n",
        "video_names = sorted([s for s in Path('videos').iterdir() if s.suffix == '.mp4'])\n",
        "\n",
        "HTML(\"\"\"\n",
        "<video width=\"640\" height=\"480\" controls>\n",
        "  <source src=\"{}\" type=\"video/mp4\">\n",
        "</video>\n",
        "\"\"\".format(video_names[-1]))  # You can also try other indices"
      ],
      "execution_count": null,
      "outputs": []
    },
    {
      "cell_type": "markdown",
      "metadata": {
        "id": "O6mISEoL_76h"
      },
      "source": [
        "# Homework option I: better sampling (10+pts)\n",
        "\n",
        "In this section, you're invited to implement a better rollout strategy called _vine_.\n",
        "\n",
        "![img](https://s17.postimg.cc/i90chxgvj/vine.png)\n",
        "\n",
        "In most gym environments, you can actually backtrack by using states. You can find a wrapper that saves/loads states in [the mcts seminar](https://github.com/yandexdataschool/Practical_RL/blob/master/week10_planning/seminar_MCTS.ipynb).\n",
        "\n",
        "You can read more about in the [TRPO article](https://arxiv.org/abs/1502.05477) in section 5.2.\n",
        "\n",
        "The goal here is to implement such rollout policy (we recommend using tree data structure like in the seminar above).\n",
        "Then you can assign cummulative rewards similar to `get_cummulative_rewards`, but for a tree.\n",
        "\n",
        "__bonus task__ - parallelize samples using multiple cores"
      ]
    },
    {
      "cell_type": "markdown",
      "metadata": {
        "id": "khJsr6IU_76h"
      },
      "source": [
        "# Homework option II (10+pts)\n",
        "\n",
        "Let's use TRPO to train evil robots! (pick any of two)\n",
        "* [MuJoCo robots](https://gym.openai.com/envs#mujoco)\n",
        "* [Box2d robot](https://gym.openai.com/envs/BipedalWalker-v2)\n",
        "\n",
        "The catch here is that those environments have continuous action spaces. \n",
        "\n",
        "Luckily, TRPO is a policy gradient method, so it's gonna work for any parametric $\\pi_\\theta(a|s)$. We recommend starting with gaussian policy:\n",
        "\n",
        "$$\\pi_\\theta(a|s) = N(\\mu_\\theta(s),\\sigma^2_\\theta(s)) = {1 \\over \\sqrt { 2 \\pi {\\sigma}_{\\theta(s)}^{2} } } e^{ (a - \n",
        "\\mu_\\theta(s))^2 \\over 2 {\\sigma}_{\\theta(s)}^{2} } $$\n",
        "\n",
        "In the $\\sqrt { 2 \\pi {\\sigma}_{\\theta(s)}^{2} }$ clause, $\\pi$ means ~3.1415926, not agent's policy.\n",
        "\n",
        "This essentially means that you will need two output layers:\n",
        "* $\\mu_\\theta(s)$, a dense layer with linear activation\n",
        "* ${\\sigma^2}_\\theta(s)$, a dense layer with activation tf.exp (to make it positive; like rho from bandits)\n",
        "\n",
        "For multidimensional actions, you can use fully factorized gaussian (basically a vector of gaussians). Namely,\n",
        "\n",
        "The Multivariate Gaussian distribution has a pdf that reads \n",
        "$$p(x\\ |\\ \\mu,\\Sigma)=\\frac{1}{(2\\pi)^{k/2}\\cdot\\det(\\Sigma)^{1/2}}\\exp\\left\\{ -\\frac{1}{2}\\left(x-\\mu\\right)^{T}\\Sigma^{-1}\\left(x-\\mu\\right)\\right\\}$$\n",
        "_\n",
        "\n",
        "In the case when the covariance matrix is diagonal $\\Sigma=\\mathrm{diag}(\\sigma_{1}^{2},\\dots,\\sigma_{k}^{2})$, the pdf simplifies to \n",
        "$$p(x\\ |\\ \\mu,\\sigma)=\\frac{1}{(2\\pi)^{k/2}\\cdot\\prod_{i=1}^{k}\\sigma_{i}}\\exp\\left\\{ -\\frac{1}{2}\\sum_{i=1}^{k}\\left(\\frac{x_{i}-\\mu_{i}}{\\sigma_{i}}\\right)^{2}\\right\\}$$\n",
        "_\n",
        "\n",
        "Assuming $\\mu_{\\theta}:S\\rightarrow\\mathbb{R}^{k}$\n",
        "and $\\sigma_{\\theta}:S\\rightarrow\\mathbb{R}^{k}$ are functions parameterized by $\\theta$, we obtain a model-based policy of the form:\n",
        "$$\\pi_{\\theta}(a|s)=\\mathcal{N}\\left(\\mu_{\\theta}(s),\\sigma_{\\theta}^{2}(s)\\right)=\\frac{1}{(2\\pi)^{k/2}\\cdot\\prod_{i=1}^{k}[\\sigma_{\\theta}(s)]_{i}}\\exp\\left\\{ -\\frac{1}{2}\\sum_{i=1}^{k}\\left(\\frac{[a]_{i}-[\\mu_{\\theta}(s)]_{i}}{[\\sigma_{\\theta}(s)]_{i}}\\right)^{2}\\right\\}.$$\n",
        "_\n",
        "\n",
        "Notice that\n",
        "$$\\ln\\pi_{\\theta}(a|s)=-\\frac{k}{2}\\ln(2\\pi)-\\sum_{i=1}^{k}\\ln[\\sigma_{\\theta}(s)]_{i}-\\frac{1}{2}\\sum_{i=1}^{k}\\left(\\frac{[a]_{i}-[\\mu_{\\theta}(s)]_{i}}{[\\sigma_{\\theta}(s)]_{i}}\\right)^{2}$$\n",
        " \n",
        "\n",
        "\n",
        "For multivariate Guassian distributions, we have\n",
        "\n",
        "\\begin{eqnarray*}\n",
        "KL\\left(\\pi_{t}(\\cdot|s)\\:||\\:\\pi_{t+1}(\\cdot|s)\\right)&=&\\frac{1}{2}\\left\\{ -k+Tr\\left[\\Sigma_{t+1}^{-1}\\Sigma_{t}\\right]+(\\mu_{t+1}-\\mu_{t})^{T}\\Sigma_{t+1}^{-1}(\\mu_{t+1}-\\mu_{t})+\\ln\\frac{\\det(\\Sigma_{t+1})}{\\det(\\Sigma_{t})}\\right\\} \\\\(\\Sigma_{t+1}=\\Sigma_{t})&=&\\frac{1}{2}\\left\\{ (\\mu_{t+1}-\\mu_{t})^{T}\\Sigma_{t+1}^{-1}(\\mu_{t+1}-\\mu_{t})\\right\\} \\\\&=&\\frac{1}{2}\\sum_{i=1}^{k}\\left(\\frac{[\\mu_{t+1}-\\mu_{t}]_{i}}{[\\sigma_{t+1}]_{i}}\\right)^{2}\n",
        "\\end{eqnarray*}\n",
        "\n",
        "\n",
        "__bonus task__: compare performance of continuous action space method to action space discretization"
      ]
    },
    {
      "cell_type": "code",
      "metadata": {
        "id": "vmMETkn13ERp"
      },
      "source": [
        "import numpy as np\n",
        "import matplotlib.mlab as mlab\n",
        "import matplotlib.pyplot as plt\n",
        "\n",
        "def normal(s, mu, sigma_sq):\n",
        "    a = np.exp( - np.square(s - mu) / (2 * sigma_sq) )\n",
        "    b = 1 / np.sqrt(2 * sigma_sq * np.pi)\n",
        "    return a*b\n",
        "\n",
        "mu = 0\n",
        "sigma = 0.1\n",
        "sigma_sq = np.square(sigma)\n",
        "\n",
        "x = normal(mu, mu, sigma_sq)\n",
        "print(x)\n",
        "\n",
        "# pdf\n",
        "pdf = [normal(mu + i/1000, mu, sigma_sq) for i in range(-100,100)]\n",
        "plt.plot(pdf)\n",
        "plt.show()\n",
        "\n",
        "# histogram of samples\n",
        "samples = mu + sigma * np.random.randn(10000)\n",
        "hist = plt.hist(samples, 100)\n",
        "plt.show()"
      ],
      "execution_count": null,
      "outputs": []
    },
    {
      "cell_type": "code",
      "metadata": {
        "id": "mDtAOru4E4FO"
      },
      "source": [
        ""
      ],
      "execution_count": null,
      "outputs": []
    },
    {
      "cell_type": "code",
      "metadata": {
        "id": "SPg-zzzQV883"
      },
      "source": [
        "import tensorflow as tf\n",
        "import numpy as np\n",
        "from scipy.stats import multivariate_normal\n",
        "\n",
        "\n",
        "dim_action = 2\n",
        "\n",
        "@tf.function\n",
        "def tf_normal(s, mu, sigma_sq):\n",
        "    exp_term   = tf.math.exp( - tf.reduce_sum( tf.math.square(s - mu) / (2 * sigma_sq), axis = -1) )\n",
        "    norm_const = tf.math.sqrt( tf.math.pow(2 * np.pi, dim_action) * tf.reduce_prod(sigma_sq, axis=-1) )\n",
        "    return exp_term / norm_const\n",
        "\n",
        "\n",
        "s        = 0.9 * tf.ones( (2,3,dim_action), dtype = tf.float32 )\n",
        "mu       = tf.ones( (2,3,dim_action), dtype = tf.float32 )\n",
        "sigma_sq = (0.1)**2 * tf.ones((2,3,dim_action), dtype = tf.float32)\n",
        "\n",
        "\n",
        "x = tf_normal(s, mu, sigma_sq)\n",
        "print(x)\n",
        "\n",
        "y = multivariate_normal.pdf( s[0,0], mu[0,0], sigma_sq[0,0] )\n",
        "print(y)"
      ],
      "execution_count": null,
      "outputs": []
    },
    {
      "cell_type": "code",
      "metadata": {
        "id": "MWUHEZE4dZtt"
      },
      "source": [
        "def normal(s, mu, sigma_sq):\n",
        "    exp_term   = np.exp( - np.sum( tf.math.square(s - mu) / (2 * sigma_sq), axis = -1) )\n",
        "    norm_const = np.sqrt( np.pow(2 * np.pi, dim_action) * np.prod(sigma_sq, axis=-1) )\n",
        "    return exp_term / norm_const\n",
        "\n",
        "s        = 0.9 * np.ones( (2,3,dim_action), dtype = np.float32 )\n",
        "mu       = np.ones( (2,3,dim_action), dtype = np.float32 )\n",
        "sigma_sq = (0.1)**2 * np.ones((2,3,dim_action), dtype = np.float32)\n",
        "\n",
        "\n",
        "x = tf_normal(s, mu, sigma_sq)\n",
        "print(x)\n",
        "\n",
        "y = multivariate_normal.pdf( s[0,0], mu[0,0], sigma_sq[0,0] )\n",
        "print(y)"
      ],
      "execution_count": null,
      "outputs": []
    },
    {
      "cell_type": "code",
      "metadata": {
        "id": "-_YHQlGWd2Rb"
      },
      "source": [
        ""
      ],
      "execution_count": null,
      "outputs": []
    }
  ]
}